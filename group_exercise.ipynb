{
 "cells": [
  {
   "cell_type": "code",
   "execution_count": 3,
   "metadata": {},
   "outputs": [
    {
     "name": "stdout",
     "output_type": "stream",
     "text": [
      "A + b = 6\n",
      "A - b = zero\n",
      "A*b = 9\n"
     ]
    }
   ],
   "source": [
    "def group_exercise(a,b):\n",
    "    c = a+b\n",
    "    d = a-b\n",
    "    e = a*b\n",
    "    if (c ==0):\n",
    "            c = \"zero\"\n",
    "    if (d ==0):\n",
    "            d = \"zero\"\n",
    "    if (e ==0):\n",
    "            e = \"zero\"\n",
    "    print(\"A + b = \" + str(c))\n",
    "    print(\"A - b = \" + str(d))\n",
    "    print(\"A*b = \" + str(e))\n",
    "    \n",
    "group_exercise(3,3)\n",
    "    \n",
    "\n"
   ]
  },
  {
   "cell_type": "code",
   "execution_count": null,
   "metadata": {},
   "outputs": [],
   "source": []
  },
  {
   "cell_type": "code",
   "execution_count": null,
   "metadata": {},
   "outputs": [],
   "source": []
  }
 ],
 "metadata": {
  "kernelspec": {
   "display_name": "Python 3",
   "language": "python",
   "name": "python3"
  },
  "language_info": {
   "codemirror_mode": {
    "name": "ipython",
    "version": 3
   },
   "file_extension": ".py",
   "mimetype": "text/x-python",
   "name": "python",
   "nbconvert_exporter": "python",
   "pygments_lexer": "ipython3",
   "version": "3.8.5"
  }
 },
 "nbformat": 4,
 "nbformat_minor": 4
}
