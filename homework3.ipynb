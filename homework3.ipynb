{
 "cells": [
  {
   "cell_type": "markdown",
   "metadata": {},
   "source": [
    "### Homework 3 Numpy Arrays\n",
    "\n",
    "1. Open `cars.csv` in jupyter and look at the data. (Double click `cars.csv` to open in a new tab).\n",
    "2. We are converting each **column** into an numpy array.\n",
    "3. Notice we have text, integer and float data. \n",
    "4. Take care not to overwrite your starter code."
   ]
  },
  {
   "cell_type": "code",
   "execution_count": 5,
   "metadata": {},
   "outputs": [],
   "source": [
    "import pandas as pd\n",
    "import numpy as np"
   ]
  },
  {
   "cell_type": "code",
   "execution_count": 6,
   "metadata": {
    "scrolled": true
   },
   "outputs": [
    {
     "data": {
      "text/html": [
       "<div>\n",
       "<style scoped>\n",
       "    .dataframe tbody tr th:only-of-type {\n",
       "        vertical-align: middle;\n",
       "    }\n",
       "\n",
       "    .dataframe tbody tr th {\n",
       "        vertical-align: top;\n",
       "    }\n",
       "\n",
       "    .dataframe thead th {\n",
       "        text-align: right;\n",
       "    }\n",
       "</style>\n",
       "<table border=\"1\" class=\"dataframe\">\n",
       "  <thead>\n",
       "    <tr style=\"text-align: right;\">\n",
       "      <th></th>\n",
       "      <th>Car</th>\n",
       "      <th>MPG</th>\n",
       "      <th>Cylinders</th>\n",
       "      <th>Displacement</th>\n",
       "      <th>Horsepower</th>\n",
       "      <th>Weight</th>\n",
       "      <th>Acceleration</th>\n",
       "      <th>Model</th>\n",
       "      <th>Origin</th>\n",
       "    </tr>\n",
       "  </thead>\n",
       "  <tbody>\n",
       "    <tr>\n",
       "      <th>0</th>\n",
       "      <td>Chevrolet Chevelle Malibu</td>\n",
       "      <td>18.0</td>\n",
       "      <td>8</td>\n",
       "      <td>307.0</td>\n",
       "      <td>130.0</td>\n",
       "      <td>3504.0</td>\n",
       "      <td>12.0</td>\n",
       "      <td>70</td>\n",
       "      <td>US</td>\n",
       "    </tr>\n",
       "    <tr>\n",
       "      <th>1</th>\n",
       "      <td>Buick Skylark 320</td>\n",
       "      <td>15.0</td>\n",
       "      <td>8</td>\n",
       "      <td>350.0</td>\n",
       "      <td>165.0</td>\n",
       "      <td>3693.0</td>\n",
       "      <td>11.5</td>\n",
       "      <td>70</td>\n",
       "      <td>US</td>\n",
       "    </tr>\n",
       "    <tr>\n",
       "      <th>2</th>\n",
       "      <td>Plymouth Satellite</td>\n",
       "      <td>18.0</td>\n",
       "      <td>8</td>\n",
       "      <td>318.0</td>\n",
       "      <td>150.0</td>\n",
       "      <td>3436.0</td>\n",
       "      <td>11.0</td>\n",
       "      <td>70</td>\n",
       "      <td>US</td>\n",
       "    </tr>\n",
       "    <tr>\n",
       "      <th>3</th>\n",
       "      <td>AMC Rebel SST</td>\n",
       "      <td>16.0</td>\n",
       "      <td>8</td>\n",
       "      <td>304.0</td>\n",
       "      <td>150.0</td>\n",
       "      <td>3433.0</td>\n",
       "      <td>12.0</td>\n",
       "      <td>70</td>\n",
       "      <td>US</td>\n",
       "    </tr>\n",
       "    <tr>\n",
       "      <th>4</th>\n",
       "      <td>Ford Torino</td>\n",
       "      <td>17.0</td>\n",
       "      <td>8</td>\n",
       "      <td>302.0</td>\n",
       "      <td>140.0</td>\n",
       "      <td>3449.0</td>\n",
       "      <td>10.5</td>\n",
       "      <td>70</td>\n",
       "      <td>US</td>\n",
       "    </tr>\n",
       "    <tr>\n",
       "      <th>...</th>\n",
       "      <td>...</td>\n",
       "      <td>...</td>\n",
       "      <td>...</td>\n",
       "      <td>...</td>\n",
       "      <td>...</td>\n",
       "      <td>...</td>\n",
       "      <td>...</td>\n",
       "      <td>...</td>\n",
       "      <td>...</td>\n",
       "    </tr>\n",
       "    <tr>\n",
       "      <th>401</th>\n",
       "      <td>Ford Mustang GL</td>\n",
       "      <td>27.0</td>\n",
       "      <td>4</td>\n",
       "      <td>140.0</td>\n",
       "      <td>86.0</td>\n",
       "      <td>2790.0</td>\n",
       "      <td>15.6</td>\n",
       "      <td>82</td>\n",
       "      <td>US</td>\n",
       "    </tr>\n",
       "    <tr>\n",
       "      <th>402</th>\n",
       "      <td>Volkswagen Pickup</td>\n",
       "      <td>44.0</td>\n",
       "      <td>4</td>\n",
       "      <td>97.0</td>\n",
       "      <td>52.0</td>\n",
       "      <td>2130.0</td>\n",
       "      <td>24.6</td>\n",
       "      <td>82</td>\n",
       "      <td>Europe</td>\n",
       "    </tr>\n",
       "    <tr>\n",
       "      <th>403</th>\n",
       "      <td>Dodge Rampage</td>\n",
       "      <td>32.0</td>\n",
       "      <td>4</td>\n",
       "      <td>135.0</td>\n",
       "      <td>84.0</td>\n",
       "      <td>2295.0</td>\n",
       "      <td>11.6</td>\n",
       "      <td>82</td>\n",
       "      <td>US</td>\n",
       "    </tr>\n",
       "    <tr>\n",
       "      <th>404</th>\n",
       "      <td>Ford Ranger</td>\n",
       "      <td>28.0</td>\n",
       "      <td>4</td>\n",
       "      <td>120.0</td>\n",
       "      <td>79.0</td>\n",
       "      <td>2625.0</td>\n",
       "      <td>18.6</td>\n",
       "      <td>82</td>\n",
       "      <td>US</td>\n",
       "    </tr>\n",
       "    <tr>\n",
       "      <th>405</th>\n",
       "      <td>Chevy S-10</td>\n",
       "      <td>31.0</td>\n",
       "      <td>4</td>\n",
       "      <td>119.0</td>\n",
       "      <td>82.0</td>\n",
       "      <td>2720.0</td>\n",
       "      <td>19.4</td>\n",
       "      <td>82</td>\n",
       "      <td>US</td>\n",
       "    </tr>\n",
       "  </tbody>\n",
       "</table>\n",
       "<p>406 rows × 9 columns</p>\n",
       "</div>"
      ],
      "text/plain": [
       "                           Car   MPG  Cylinders  Displacement  Horsepower  \\\n",
       "0    Chevrolet Chevelle Malibu  18.0          8         307.0       130.0   \n",
       "1            Buick Skylark 320  15.0          8         350.0       165.0   \n",
       "2           Plymouth Satellite  18.0          8         318.0       150.0   \n",
       "3                AMC Rebel SST  16.0          8         304.0       150.0   \n",
       "4                  Ford Torino  17.0          8         302.0       140.0   \n",
       "..                         ...   ...        ...           ...         ...   \n",
       "401            Ford Mustang GL  27.0          4         140.0        86.0   \n",
       "402          Volkswagen Pickup  44.0          4          97.0        52.0   \n",
       "403              Dodge Rampage  32.0          4         135.0        84.0   \n",
       "404                Ford Ranger  28.0          4         120.0        79.0   \n",
       "405                 Chevy S-10  31.0          4         119.0        82.0   \n",
       "\n",
       "     Weight  Acceleration  Model  Origin  \n",
       "0    3504.0          12.0     70      US  \n",
       "1    3693.0          11.5     70      US  \n",
       "2    3436.0          11.0     70      US  \n",
       "3    3433.0          12.0     70      US  \n",
       "4    3449.0          10.5     70      US  \n",
       "..      ...           ...    ...     ...  \n",
       "401  2790.0          15.6     82      US  \n",
       "402  2130.0          24.6     82  Europe  \n",
       "403  2295.0          11.6     82      US  \n",
       "404  2625.0          18.6     82      US  \n",
       "405  2720.0          19.4     82      US  \n",
       "\n",
       "[406 rows x 9 columns]"
      ]
     },
     "metadata": {},
     "output_type": "display_data"
    }
   ],
   "source": [
    "headers = np.array(['Car', 'MPG', 'Cylinders', 'Displacement', 'Horsepower', 'Weight','Acceleration', 'Model', 'Origin'])\n",
    "\n",
    "df = pd.read_csv('cars.csv',delimiter=';')\n",
    "display(df)"
   ]
  },
  {
   "cell_type": "markdown",
   "metadata": {},
   "source": [
    "1. How can you get help on `np.array`?\n",
    "\n",
    "Call `dir()` on `np.array`. \n",
    "\n",
    "Call `dir()` on `car`.\n",
    "\n",
    "Note the difference. `car` has methods and attributes we can use."
   ]
  },
  {
   "cell_type": "code",
   "execution_count": null,
   "metadata": {},
   "outputs": [],
   "source": [
    "1.To make a numpy array, you can just use the np.array() function and pass a list to it.\n",
    "you can also specify a datatype of data. "
   ]
  },
  {
   "cell_type": "code",
   "execution_count": 72,
   "metadata": {},
   "outputs": [
    {
     "name": "stdout",
     "output_type": "stream",
     "text": [
      "                           Car   MPG  Cylinders  Displacement  Horsepower  \\\n",
      "0    Chevrolet Chevelle Malibu  18.0          8         307.0       130.0   \n",
      "1            Buick Skylark 320  15.0          8         350.0       165.0   \n",
      "2           Plymouth Satellite  18.0          8         318.0       150.0   \n",
      "3                AMC Rebel SST  16.0          8         304.0       150.0   \n",
      "4                  Ford Torino  17.0          8         302.0       140.0   \n",
      "..                         ...   ...        ...           ...         ...   \n",
      "401            Ford Mustang GL  27.0          4         140.0        86.0   \n",
      "402          Volkswagen Pickup  44.0          4          97.0        52.0   \n",
      "403              Dodge Rampage  32.0          4         135.0        84.0   \n",
      "404                Ford Ranger  28.0          4         120.0        79.0   \n",
      "405                 Chevy S-10  31.0          4         119.0        82.0   \n",
      "\n",
      "     Weight  Acceleration  Model  Origin  \n",
      "0    3504.0          12.0     70      US  \n",
      "1    3693.0          11.5     70      US  \n",
      "2    3436.0          11.0     70      US  \n",
      "3    3433.0          12.0     70      US  \n",
      "4    3449.0          10.5     70      US  \n",
      "..      ...           ...    ...     ...  \n",
      "401  2790.0          15.6     82      US  \n",
      "402  2130.0          24.6     82  Europe  \n",
      "403  2295.0          11.6     82      US  \n",
      "404  2625.0          18.6     82      US  \n",
      "405  2720.0          19.4     82      US  \n",
      "\n",
      "[406 rows x 9 columns]\n"
     ]
    }
   ],
   "source": [
    "#Starter code. Do NOT modify this cell\n",
    "import pandas as pd\n",
    "import numpy as np\n",
    "\n",
    "# Read in dataset\n",
    "df = pd.read_csv('Documents/Data-Science-Assignments/course_material/week_03/cars.csv',delimiter=';')\n",
    "\n",
    "# Convert each column to an np.array\n",
    "car = df.Car.to_numpy()\n",
    "mpg = df.MPG.to_numpy()\n",
    "cylinders = df.Cylinders.to_numpy()\n",
    "displacement = df.Displacement.to_numpy()\n",
    "horsepower = df.Horsepower.to_numpy()\n",
    "weight = df.Weight.to_numpy()\n",
    "acceleration = df.Acceleration.to_numpy()\n",
    "model = df.Model.to_numpy()\n",
    "origin = df.Origin.to_numpy()\n",
    "\n",
    "# create an array of headers\n",
    "headers = np.array(['Car', 'MPG', 'Cylinders', 'Displacement', 'Horsepower', 'Weight','Acceleration', 'Model', 'Origin'])\n",
    "print(df)"
   ]
  },
  {
   "cell_type": "code",
   "execution_count": 22,
   "metadata": {},
   "outputs": [
    {
     "data": {
      "text/plain": [
       "['__call__',\n",
       " '__class__',\n",
       " '__delattr__',\n",
       " '__dir__',\n",
       " '__doc__',\n",
       " '__eq__',\n",
       " '__format__',\n",
       " '__ge__',\n",
       " '__getattribute__',\n",
       " '__gt__',\n",
       " '__hash__',\n",
       " '__init__',\n",
       " '__init_subclass__',\n",
       " '__le__',\n",
       " '__lt__',\n",
       " '__module__',\n",
       " '__name__',\n",
       " '__ne__',\n",
       " '__new__',\n",
       " '__qualname__',\n",
       " '__reduce__',\n",
       " '__reduce_ex__',\n",
       " '__repr__',\n",
       " '__self__',\n",
       " '__setattr__',\n",
       " '__sizeof__',\n",
       " '__str__',\n",
       " '__subclasshook__',\n",
       " '__text_signature__']"
      ]
     },
     "execution_count": 22,
     "metadata": {},
     "output_type": "execute_result"
    }
   ],
   "source": [
    "dir(np.array)"
   ]
  },
  {
   "cell_type": "code",
   "execution_count": 83,
   "metadata": {},
   "outputs": [
    {
     "data": {
      "text/plain": [
       "['T',\n",
       " '__abs__',\n",
       " '__add__',\n",
       " '__and__',\n",
       " '__array__',\n",
       " '__array_finalize__',\n",
       " '__array_function__',\n",
       " '__array_interface__',\n",
       " '__array_prepare__',\n",
       " '__array_priority__',\n",
       " '__array_struct__',\n",
       " '__array_ufunc__',\n",
       " '__array_wrap__',\n",
       " '__bool__',\n",
       " '__class__',\n",
       " '__complex__',\n",
       " '__contains__',\n",
       " '__copy__',\n",
       " '__deepcopy__',\n",
       " '__delattr__',\n",
       " '__delitem__',\n",
       " '__dir__',\n",
       " '__divmod__',\n",
       " '__doc__',\n",
       " '__eq__',\n",
       " '__float__',\n",
       " '__floordiv__',\n",
       " '__format__',\n",
       " '__ge__',\n",
       " '__getattribute__',\n",
       " '__getitem__',\n",
       " '__gt__',\n",
       " '__hash__',\n",
       " '__iadd__',\n",
       " '__iand__',\n",
       " '__ifloordiv__',\n",
       " '__ilshift__',\n",
       " '__imatmul__',\n",
       " '__imod__',\n",
       " '__imul__',\n",
       " '__index__',\n",
       " '__init__',\n",
       " '__init_subclass__',\n",
       " '__int__',\n",
       " '__invert__',\n",
       " '__ior__',\n",
       " '__ipow__',\n",
       " '__irshift__',\n",
       " '__isub__',\n",
       " '__iter__',\n",
       " '__itruediv__',\n",
       " '__ixor__',\n",
       " '__le__',\n",
       " '__len__',\n",
       " '__lshift__',\n",
       " '__lt__',\n",
       " '__matmul__',\n",
       " '__mod__',\n",
       " '__mul__',\n",
       " '__ne__',\n",
       " '__neg__',\n",
       " '__new__',\n",
       " '__or__',\n",
       " '__pos__',\n",
       " '__pow__',\n",
       " '__radd__',\n",
       " '__rand__',\n",
       " '__rdivmod__',\n",
       " '__reduce__',\n",
       " '__reduce_ex__',\n",
       " '__repr__',\n",
       " '__rfloordiv__',\n",
       " '__rlshift__',\n",
       " '__rmatmul__',\n",
       " '__rmod__',\n",
       " '__rmul__',\n",
       " '__ror__',\n",
       " '__rpow__',\n",
       " '__rrshift__',\n",
       " '__rshift__',\n",
       " '__rsub__',\n",
       " '__rtruediv__',\n",
       " '__rxor__',\n",
       " '__setattr__',\n",
       " '__setitem__',\n",
       " '__setstate__',\n",
       " '__sizeof__',\n",
       " '__str__',\n",
       " '__sub__',\n",
       " '__subclasshook__',\n",
       " '__truediv__',\n",
       " '__xor__',\n",
       " 'all',\n",
       " 'any',\n",
       " 'argmax',\n",
       " 'argmin',\n",
       " 'argpartition',\n",
       " 'argsort',\n",
       " 'astype',\n",
       " 'base',\n",
       " 'byteswap',\n",
       " 'choose',\n",
       " 'clip',\n",
       " 'compress',\n",
       " 'conj',\n",
       " 'conjugate',\n",
       " 'copy',\n",
       " 'ctypes',\n",
       " 'cumprod',\n",
       " 'cumsum',\n",
       " 'data',\n",
       " 'diagonal',\n",
       " 'dot',\n",
       " 'dtype',\n",
       " 'dump',\n",
       " 'dumps',\n",
       " 'fill',\n",
       " 'flags',\n",
       " 'flat',\n",
       " 'flatten',\n",
       " 'getfield',\n",
       " 'imag',\n",
       " 'item',\n",
       " 'itemset',\n",
       " 'itemsize',\n",
       " 'max',\n",
       " 'mean',\n",
       " 'min',\n",
       " 'nbytes',\n",
       " 'ndim',\n",
       " 'newbyteorder',\n",
       " 'nonzero',\n",
       " 'partition',\n",
       " 'prod',\n",
       " 'ptp',\n",
       " 'put',\n",
       " 'ravel',\n",
       " 'real',\n",
       " 'repeat',\n",
       " 'reshape',\n",
       " 'resize',\n",
       " 'round',\n",
       " 'searchsorted',\n",
       " 'setfield',\n",
       " 'setflags',\n",
       " 'shape',\n",
       " 'size',\n",
       " 'sort',\n",
       " 'squeeze',\n",
       " 'std',\n",
       " 'strides',\n",
       " 'sum',\n",
       " 'swapaxes',\n",
       " 'take',\n",
       " 'tobytes',\n",
       " 'tofile',\n",
       " 'tolist',\n",
       " 'tostring',\n",
       " 'trace',\n",
       " 'transpose',\n",
       " 'var',\n",
       " 'view']"
      ]
     },
     "execution_count": 83,
     "metadata": {},
     "output_type": "execute_result"
    }
   ],
   "source": [
    "dir(car)"
   ]
  },
  {
   "cell_type": "markdown",
   "metadata": {},
   "source": [
    "2. What are the numpy datatypes for the `car`,`mpg`, `horsepower` and `origin` arrays? (Hint: Not `type(car)` and use `print()` to print the numpy type.)"
   ]
  },
  {
   "cell_type": "code",
   "execution_count": 4,
   "metadata": {},
   "outputs": [
    {
     "name": "stdout",
     "output_type": "stream",
     "text": [
      "<U10\n"
     ]
    }
   ],
   "source": [
    "import numpy as np\n",
    "arr = np.array(['Car', 'mpg', 'horsepower', 'origin'])\n",
    "print(arr.dtype)"
   ]
  },
  {
   "cell_type": "markdown",
   "metadata": {},
   "source": [
    "3. `numpy` is often imported as `np`. What is this action called? Why might you do this? "
   ]
  },
  {
   "cell_type": "code",
   "execution_count": null,
   "metadata": {},
   "outputs": [],
   "source": [
    "# NumPy is a library for the Python programming language and it supports for a large arrays called numarrays.\n",
    "# NumPy is an N-dimensional array type called ndarray. ... so for large no of array we generally it writtens as \n",
    "import numpy as np."
   ]
  },
  {
   "cell_type": "markdown",
   "metadata": {},
   "source": [
    "4. Each of the arrays (cars, mpg, cylinders, etc..) has how many dimensions? Show how to find this using code. "
   ]
  },
  {
   "cell_type": "code",
   "execution_count": 2,
   "metadata": {},
   "outputs": [
    {
     "name": "stdout",
     "output_type": "stream",
     "text": [
      "                           Car   MPG  Cylinders  Displacement  Horsepower  \\\n",
      "0    Chevrolet Chevelle Malibu  18.0          8         307.0       130.0   \n",
      "1            Buick Skylark 320  15.0          8         350.0       165.0   \n",
      "2           Plymouth Satellite  18.0          8         318.0       150.0   \n",
      "3                AMC Rebel SST  16.0          8         304.0       150.0   \n",
      "4                  Ford Torino  17.0          8         302.0       140.0   \n",
      "..                         ...   ...        ...           ...         ...   \n",
      "401            Ford Mustang GL  27.0          4         140.0        86.0   \n",
      "402          Volkswagen Pickup  44.0          4          97.0        52.0   \n",
      "403              Dodge Rampage  32.0          4         135.0        84.0   \n",
      "404                Ford Ranger  28.0          4         120.0        79.0   \n",
      "405                 Chevy S-10  31.0          4         119.0        82.0   \n",
      "\n",
      "     Weight  Acceleration  Model  Origin  \n",
      "0    3504.0          12.0     70      US  \n",
      "1    3693.0          11.5     70      US  \n",
      "2    3436.0          11.0     70      US  \n",
      "3    3433.0          12.0     70      US  \n",
      "4    3449.0          10.5     70      US  \n",
      "..      ...           ...    ...     ...  \n",
      "401  2790.0          15.6     82      US  \n",
      "402  2130.0          24.6     82  Europe  \n",
      "403  2295.0          11.6     82      US  \n",
      "404  2625.0          18.6     82      US  \n",
      "405  2720.0          19.4     82      US  \n",
      "\n",
      "[406 rows x 9 columns]\n"
     ]
    }
   ],
   "source": [
    "\n",
    "import pandas as pd\n",
    "import numpy as np\n",
    "\n",
    "# Read in dataset\n",
    "df = pd.read_csv('Documents/Data-Science-Assignments/course_material/week_03/cars.csv',delimiter=';')\n",
    "\n",
    "# Convert each column to an np.array\n",
    "car = df.Car.to_numpy()\n",
    "mpg = df.MPG.to_numpy()\n",
    "cylinders = df.Cylinders.to_numpy()\n",
    "displacement = df.Displacement.to_numpy()\n",
    "horsepower = df.Horsepower.to_numpy()\n",
    "weight = df.Weight.to_numpy()\n",
    "acceleration = df.Acceleration.to_numpy()\n",
    "model = df.Model.to_numpy()\n",
    "origin = df.Origin.to_numpy()\n",
    "\n",
    "# create an array of headers\n",
    "headers = np.array(['Car', 'MPG', 'Cylinders', 'Displacement', 'Horsepower', 'Weight','Acceleration', 'Model', 'Origin'])\n",
    "print(df)"
   ]
  },
  {
   "cell_type": "code",
   "execution_count": 79,
   "metadata": {},
   "outputs": [
    {
     "data": {
      "text/plain": [
       "1"
      ]
     },
     "execution_count": 79,
     "metadata": {},
     "output_type": "execute_result"
    }
   ],
   "source": [
    "car.ndim"
   ]
  },
  {
   "cell_type": "code",
   "execution_count": 80,
   "metadata": {},
   "outputs": [
    {
     "data": {
      "text/plain": [
       "1"
      ]
     },
     "execution_count": 80,
     "metadata": {},
     "output_type": "execute_result"
    }
   ],
   "source": [
    "mpg.ndim"
   ]
  },
  {
   "cell_type": "code",
   "execution_count": 3,
   "metadata": {},
   "outputs": [
    {
     "data": {
      "text/plain": [
       "1"
      ]
     },
     "execution_count": 3,
     "metadata": {},
     "output_type": "execute_result"
    }
   ],
   "source": [
    "cylinders.ndim"
   ]
  },
  {
   "cell_type": "markdown",
   "metadata": {},
   "source": [
    "5. Show how to:\n",
    "\n",
    "- multiply the `mpg` array by 12.\n",
    "- divide the `mpg` array by 3.\n",
    "- raise the `mpg` array to the power of 4.\n",
    "- take the square root of the `mpg` array."
   ]
  },
  {
   "cell_type": "code",
   "execution_count": 27,
   "metadata": {},
   "outputs": [
    {
     "name": "stdout",
     "output_type": "stream",
     "text": [
      "                           Car   MPG  Cylinders  Displacement  Horsepower  \\\n",
      "0    Chevrolet Chevelle Malibu  18.0          8         307.0       130.0   \n",
      "1            Buick Skylark 320  15.0          8         350.0       165.0   \n",
      "2           Plymouth Satellite  18.0          8         318.0       150.0   \n",
      "3                AMC Rebel SST  16.0          8         304.0       150.0   \n",
      "4                  Ford Torino  17.0          8         302.0       140.0   \n",
      "..                         ...   ...        ...           ...         ...   \n",
      "401            Ford Mustang GL  27.0          4         140.0        86.0   \n",
      "402          Volkswagen Pickup  44.0          4          97.0        52.0   \n",
      "403              Dodge Rampage  32.0          4         135.0        84.0   \n",
      "404                Ford Ranger  28.0          4         120.0        79.0   \n",
      "405                 Chevy S-10  31.0          4         119.0        82.0   \n",
      "\n",
      "     Weight  Acceleration  Model  Origin  \n",
      "0    3504.0          12.0     70      US  \n",
      "1    3693.0          11.5     70      US  \n",
      "2    3436.0          11.0     70      US  \n",
      "3    3433.0          12.0     70      US  \n",
      "4    3449.0          10.5     70      US  \n",
      "..      ...           ...    ...     ...  \n",
      "401  2790.0          15.6     82      US  \n",
      "402  2130.0          24.6     82  Europe  \n",
      "403  2295.0          11.6     82      US  \n",
      "404  2625.0          18.6     82      US  \n",
      "405  2720.0          19.4     82      US  \n",
      "\n",
      "[406 rows x 9 columns]\n"
     ]
    }
   ],
   "source": [
    "\n",
    "import pandas as pd\n",
    "import numpy as np\n",
    "\n",
    "# Read in dataset\n",
    "df = pd.read_csv('Documents/Data-Science-Assignments/course_material/week_03/cars.csv',delimiter=';')\n",
    "\n",
    "# Convert each column to an np.array\n",
    "car = df.Car.to_numpy()\n",
    "mpg = df.MPG.to_numpy()\n",
    "cylinders = df.Cylinders.to_numpy()\n",
    "displacement = df.Displacement.to_numpy()\n",
    "horsepower = df.Horsepower.to_numpy()\n",
    "weight = df.Weight.to_numpy()\n",
    "acceleration = df.Acceleration.to_numpy()\n",
    "model = df.Model.to_numpy()\n",
    "origin = df.Origin.to_numpy()\n",
    "\n",
    "# create an array of headers\n",
    "headers = np.array(['Car', 'MPG', 'Cylinders', 'Displacement', 'Horsepower', 'Weight','Acceleration', 'Model', 'Origin'])\n",
    "print(df)\n"
   ]
  },
  {
   "cell_type": "code",
   "execution_count": 28,
   "metadata": {},
   "outputs": [
    {
     "data": {
      "text/plain": [
       "array([216. , 180. , 216. , 192. , 204. , 180. , 168. , 168. , 168. ,\n",
       "       180. ,   0. ,   0. ,   0. ,   0. ,   0. , 180. , 168. ,   0. ,\n",
       "       180. , 168. , 288. , 264. , 216. , 252. , 324. , 312. , 300. ,\n",
       "       288. , 300. , 312. , 252. , 120. , 120. , 132. , 108. , 324. ,\n",
       "       336. , 300. , 300. ,   0. , 228. , 192. , 204. , 228. , 216. ,\n",
       "       168. , 168. , 168. , 168. , 144. , 156. , 156. , 216. , 264. ,\n",
       "       228. , 216. , 276. , 336. , 360. , 360. , 372. , 420. , 324. ,\n",
       "       312. , 288. , 300. , 276. , 240. , 252. , 156. , 168. , 180. ,\n",
       "       168. , 204. , 132. , 156. , 144. , 156. , 228. , 180. , 156. ,\n",
       "       156. , 168. , 216. , 264. , 252. , 312. , 264. , 336. , 276. ,\n",
       "       336. , 324. , 156. , 168. , 156. , 168. , 180. , 144. , 156. ,\n",
       "       156. , 168. , 156. , 144. , 156. , 216. , 192. , 216. , 216. ,\n",
       "       276. , 312. , 132. , 144. , 156. , 144. , 216. , 240. , 252. ,\n",
       "       264. , 216. , 228. , 252. , 312. , 180. , 192. , 348. , 288. ,\n",
       "       240. , 228. , 180. , 288. , 240. , 132. , 240. , 252. , 228. ,\n",
       "       180. , 372. , 312. , 384. , 300. , 192. , 192. , 216. , 192. ,\n",
       "       156. , 168. , 168. , 168. , 348. , 312. , 312. , 372. , 384. ,\n",
       "       336. , 288. , 312. , 288. , 312. , 372. , 228. , 216. , 180. ,\n",
       "       180. , 192. , 180. , 192. , 168. , 204. , 192. , 180. , 216. ,\n",
       "       252. , 240. , 156. , 348. , 276. , 240. , 276. , 288. , 300. ,\n",
       "       288. , 216. , 348. , 228. , 276. , 276. , 264. , 300. , 396. ,\n",
       "       336. , 300. , 300. , 312. , 324. , 210. , 192. , 186. , 174. ,\n",
       "       264. , 264. , 288. , 270. , 348. , 294. , 348. , 396. , 240. ,\n",
       "       216. , 222. , 210. , 354. , 384. , 336. , 318. , 240. , 156. ,\n",
       "       228. , 228. , 198. , 198. , 156. , 156. , 156. , 378. , 360. ,\n",
       "       432. , 306. , 402. , 210. , 204. , 186. , 180. , 210. , 246. ,\n",
       "       228. , 222. , 192. , 186. , 186. , 192. , 348. , 294. , 312. ,\n",
       "       306. , 366. , 402. , 360. , 366. , 264. , 258. , 258. , 517.2,\n",
       "       433.2, 393.6, 472.8, 433.2, 238.8, 232.8, 242.4, 230.4, 246. ,\n",
       "       242.4, 301.2, 246. , 232.8, 247.2, 249.6, 223.2, 217.2, 230.4,\n",
       "       212.4, 217.2, 210. , 360. , 330. , 326.4, 370.8, 253.2, 278.4,\n",
       "       285.6, 286.8, 243.6, 204. , 259.2, 194.4, 378. , 354. , 258. ,\n",
       "       237.6, 267.6, 242.4, 247.2, 204. , 211.2, 198. , 218.4, 202.8,\n",
       "       186. , 230.4, 222. , 382.8, 409.2, 428.4, 328.8, 304.8, 276. ,\n",
       "       326.4, 286.8, 410.4, 414. , 381.6, 447.6, 340.8, 345.6, 321.6,\n",
       "       402. , 498. , 457.2, 385.2, 446.4, 336. , 316.8, 291.6, 229.2,\n",
       "       411.6, 357.6, 375.6, 444. , 386.4, 559.2, 334.8, 489.6, 531.6,\n",
       "       520.8, 436.8, 360. , 535.2, 490.8, 405.6, 357.6, 392.4, 284.4,\n",
       "       420. , 283.2, 388.8, 326.4, 319.2, 309.6, 282. , 360. , 469.2,\n",
       "       468. , 421.2, 387.6, 444. , 452.4, 409.2, 416.4, 412.8, 358.8,\n",
       "       396. , 414. , 404.4, 388.8, 394.8, 379.2, 337.2,   0. , 368.4,\n",
       "       304.8, 290.4, 268.8, 319.2, 242.4, 211.2, 336. , 324. , 408. ,\n",
       "       372. , 348. , 324. , 288. , 276. , 432. , 444. , 372. , 456. ,\n",
       "       432. , 432. , 432. , 408. , 456. , 384. , 456. , 300. , 456. ,\n",
       "       312. , 264. , 384. , 432. , 324. , 324. , 528. , 384. , 336. ,\n",
       "       372. ])"
      ]
     },
     "execution_count": 28,
     "metadata": {},
     "output_type": "execute_result"
    }
   ],
   "source": [
    "mpg * 12"
   ]
  },
  {
   "cell_type": "code",
   "execution_count": 29,
   "metadata": {},
   "outputs": [
    {
     "data": {
      "text/plain": [
       "array([ 6.        ,  5.        ,  6.        ,  5.33333333,  5.66666667,\n",
       "        5.        ,  4.66666667,  4.66666667,  4.66666667,  5.        ,\n",
       "        0.        ,  0.        ,  0.        ,  0.        ,  0.        ,\n",
       "        5.        ,  4.66666667,  0.        ,  5.        ,  4.66666667,\n",
       "        8.        ,  7.33333333,  6.        ,  7.        ,  9.        ,\n",
       "        8.66666667,  8.33333333,  8.        ,  8.33333333,  8.66666667,\n",
       "        7.        ,  3.33333333,  3.33333333,  3.66666667,  3.        ,\n",
       "        9.        ,  9.33333333,  8.33333333,  8.33333333,  0.        ,\n",
       "        6.33333333,  5.33333333,  5.66666667,  6.33333333,  6.        ,\n",
       "        4.66666667,  4.66666667,  4.66666667,  4.66666667,  4.        ,\n",
       "        4.33333333,  4.33333333,  6.        ,  7.33333333,  6.33333333,\n",
       "        6.        ,  7.66666667,  9.33333333, 10.        , 10.        ,\n",
       "       10.33333333, 11.66666667,  9.        ,  8.66666667,  8.        ,\n",
       "        8.33333333,  7.66666667,  6.66666667,  7.        ,  4.33333333,\n",
       "        4.66666667,  5.        ,  4.66666667,  5.66666667,  3.66666667,\n",
       "        4.33333333,  4.        ,  4.33333333,  6.33333333,  5.        ,\n",
       "        4.33333333,  4.33333333,  4.66666667,  6.        ,  7.33333333,\n",
       "        7.        ,  8.66666667,  7.33333333,  9.33333333,  7.66666667,\n",
       "        9.33333333,  9.        ,  4.33333333,  4.66666667,  4.33333333,\n",
       "        4.66666667,  5.        ,  4.        ,  4.33333333,  4.33333333,\n",
       "        4.66666667,  4.33333333,  4.        ,  4.33333333,  6.        ,\n",
       "        5.33333333,  6.        ,  6.        ,  7.66666667,  8.66666667,\n",
       "        3.66666667,  4.        ,  4.33333333,  4.        ,  6.        ,\n",
       "        6.66666667,  7.        ,  7.33333333,  6.        ,  6.33333333,\n",
       "        7.        ,  8.66666667,  5.        ,  5.33333333,  9.66666667,\n",
       "        8.        ,  6.66666667,  6.33333333,  5.        ,  8.        ,\n",
       "        6.66666667,  3.66666667,  6.66666667,  7.        ,  6.33333333,\n",
       "        5.        , 10.33333333,  8.66666667, 10.66666667,  8.33333333,\n",
       "        5.33333333,  5.33333333,  6.        ,  5.33333333,  4.33333333,\n",
       "        4.66666667,  4.66666667,  4.66666667,  9.66666667,  8.66666667,\n",
       "        8.66666667, 10.33333333, 10.66666667,  9.33333333,  8.        ,\n",
       "        8.66666667,  8.        ,  8.66666667, 10.33333333,  6.33333333,\n",
       "        6.        ,  5.        ,  5.        ,  5.33333333,  5.        ,\n",
       "        5.33333333,  4.66666667,  5.66666667,  5.33333333,  5.        ,\n",
       "        6.        ,  7.        ,  6.66666667,  4.33333333,  9.66666667,\n",
       "        7.66666667,  6.66666667,  7.66666667,  8.        ,  8.33333333,\n",
       "        8.        ,  6.        ,  9.66666667,  6.33333333,  7.66666667,\n",
       "        7.66666667,  7.33333333,  8.33333333, 11.        ,  9.33333333,\n",
       "        8.33333333,  8.33333333,  8.66666667,  9.        ,  5.83333333,\n",
       "        5.33333333,  5.16666667,  4.83333333,  7.33333333,  7.33333333,\n",
       "        8.        ,  7.5       ,  9.66666667,  8.16666667,  9.66666667,\n",
       "       11.        ,  6.66666667,  6.        ,  6.16666667,  5.83333333,\n",
       "        9.83333333, 10.66666667,  9.33333333,  8.83333333,  6.66666667,\n",
       "        4.33333333,  6.33333333,  6.33333333,  5.5       ,  5.5       ,\n",
       "        4.33333333,  4.33333333,  4.33333333, 10.5       , 10.        ,\n",
       "       12.        ,  8.5       , 11.16666667,  5.83333333,  5.66666667,\n",
       "        5.16666667,  5.        ,  5.83333333,  6.83333333,  6.33333333,\n",
       "        6.16666667,  5.33333333,  5.16666667,  5.16666667,  5.33333333,\n",
       "        9.66666667,  8.16666667,  8.66666667,  8.5       , 10.16666667,\n",
       "       11.16666667, 10.        , 10.16666667,  7.33333333,  7.16666667,\n",
       "        7.16666667, 14.36666667, 12.03333333, 10.93333333, 13.13333333,\n",
       "       12.03333333,  6.63333333,  6.46666667,  6.73333333,  6.4       ,\n",
       "        6.83333333,  6.73333333,  8.36666667,  6.83333333,  6.46666667,\n",
       "        6.86666667,  6.93333333,  6.2       ,  6.03333333,  6.4       ,\n",
       "        5.9       ,  6.03333333,  5.83333333, 10.        ,  9.16666667,\n",
       "        9.06666667, 10.3       ,  7.03333333,  7.73333333,  7.93333333,\n",
       "        7.96666667,  6.76666667,  5.66666667,  7.2       ,  5.4       ,\n",
       "       10.5       ,  9.83333333,  7.16666667,  6.6       ,  7.43333333,\n",
       "        6.73333333,  6.86666667,  5.66666667,  5.86666667,  5.5       ,\n",
       "        6.06666667,  5.63333333,  5.16666667,  6.4       ,  6.16666667,\n",
       "       10.63333333, 11.36666667, 11.9       ,  9.13333333,  8.46666667,\n",
       "        7.66666667,  9.06666667,  7.96666667, 11.4       , 11.5       ,\n",
       "       10.6       , 12.43333333,  9.46666667,  9.6       ,  8.93333333,\n",
       "       11.16666667, 13.83333333, 12.7       , 10.7       , 12.4       ,\n",
       "        9.33333333,  8.8       ,  8.1       ,  6.36666667, 11.43333333,\n",
       "        9.93333333, 10.43333333, 12.33333333, 10.73333333, 15.53333333,\n",
       "        9.3       , 13.6       , 14.76666667, 14.46666667, 12.13333333,\n",
       "       10.        , 14.86666667, 13.63333333, 11.26666667,  9.93333333,\n",
       "       10.9       ,  7.9       , 11.66666667,  7.86666667, 10.8       ,\n",
       "        9.06666667,  8.86666667,  8.6       ,  7.83333333, 10.        ,\n",
       "       13.03333333, 13.        , 11.7       , 10.76666667, 12.33333333,\n",
       "       12.56666667, 11.36666667, 11.56666667, 11.46666667,  9.96666667,\n",
       "       11.        , 11.5       , 11.23333333, 10.8       , 10.96666667,\n",
       "       10.53333333,  9.36666667,  0.        , 10.23333333,  8.46666667,\n",
       "        8.06666667,  7.46666667,  8.86666667,  6.73333333,  5.86666667,\n",
       "        9.33333333,  9.        , 11.33333333, 10.33333333,  9.66666667,\n",
       "        9.        ,  8.        ,  7.66666667, 12.        , 12.33333333,\n",
       "       10.33333333, 12.66666667, 12.        , 12.        , 12.        ,\n",
       "       11.33333333, 12.66666667, 10.66666667, 12.66666667,  8.33333333,\n",
       "       12.66666667,  8.66666667,  7.33333333, 10.66666667, 12.        ,\n",
       "        9.        ,  9.        , 14.66666667, 10.66666667,  9.33333333,\n",
       "       10.33333333])"
      ]
     },
     "execution_count": 29,
     "metadata": {},
     "output_type": "execute_result"
    }
   ],
   "source": [
    "mpg / 3"
   ]
  },
  {
   "cell_type": "code",
   "execution_count": 32,
   "metadata": {},
   "outputs": [
    {
     "data": {
      "text/plain": [
       "array([4.24264069, 3.87298335, 4.24264069, 4.        , 4.12310563,\n",
       "       3.87298335, 3.74165739, 3.74165739, 3.74165739, 3.87298335,\n",
       "       0.        , 0.        , 0.        , 0.        , 0.        ,\n",
       "       3.87298335, 3.74165739, 0.        , 3.87298335, 3.74165739,\n",
       "       4.89897949, 4.69041576, 4.24264069, 4.58257569, 5.19615242,\n",
       "       5.09901951, 5.        , 4.89897949, 5.        , 5.09901951,\n",
       "       4.58257569, 3.16227766, 3.16227766, 3.31662479, 3.        ,\n",
       "       5.19615242, 5.29150262, 5.        , 5.        , 0.        ,\n",
       "       4.35889894, 4.        , 4.12310563, 4.35889894, 4.24264069,\n",
       "       3.74165739, 3.74165739, 3.74165739, 3.74165739, 3.46410162,\n",
       "       3.60555128, 3.60555128, 4.24264069, 4.69041576, 4.35889894,\n",
       "       4.24264069, 4.79583152, 5.29150262, 5.47722558, 5.47722558,\n",
       "       5.56776436, 5.91607978, 5.19615242, 5.09901951, 4.89897949,\n",
       "       5.        , 4.79583152, 4.47213595, 4.58257569, 3.60555128,\n",
       "       3.74165739, 3.87298335, 3.74165739, 4.12310563, 3.31662479,\n",
       "       3.60555128, 3.46410162, 3.60555128, 4.35889894, 3.87298335,\n",
       "       3.60555128, 3.60555128, 3.74165739, 4.24264069, 4.69041576,\n",
       "       4.58257569, 5.09901951, 4.69041576, 5.29150262, 4.79583152,\n",
       "       5.29150262, 5.19615242, 3.60555128, 3.74165739, 3.60555128,\n",
       "       3.74165739, 3.87298335, 3.46410162, 3.60555128, 3.60555128,\n",
       "       3.74165739, 3.60555128, 3.46410162, 3.60555128, 4.24264069,\n",
       "       4.        , 4.24264069, 4.24264069, 4.79583152, 5.09901951,\n",
       "       3.31662479, 3.46410162, 3.60555128, 3.46410162, 4.24264069,\n",
       "       4.47213595, 4.58257569, 4.69041576, 4.24264069, 4.35889894,\n",
       "       4.58257569, 5.09901951, 3.87298335, 4.        , 5.38516481,\n",
       "       4.89897949, 4.47213595, 4.35889894, 3.87298335, 4.89897949,\n",
       "       4.47213595, 3.31662479, 4.47213595, 4.58257569, 4.35889894,\n",
       "       3.87298335, 5.56776436, 5.09901951, 5.65685425, 5.        ,\n",
       "       4.        , 4.        , 4.24264069, 4.        , 3.60555128,\n",
       "       3.74165739, 3.74165739, 3.74165739, 5.38516481, 5.09901951,\n",
       "       5.09901951, 5.56776436, 5.65685425, 5.29150262, 4.89897949,\n",
       "       5.09901951, 4.89897949, 5.09901951, 5.56776436, 4.35889894,\n",
       "       4.24264069, 3.87298335, 3.87298335, 4.        , 3.87298335,\n",
       "       4.        , 3.74165739, 4.12310563, 4.        , 3.87298335,\n",
       "       4.24264069, 4.58257569, 4.47213595, 3.60555128, 5.38516481,\n",
       "       4.79583152, 4.47213595, 4.79583152, 4.89897949, 5.        ,\n",
       "       4.89897949, 4.24264069, 5.38516481, 4.35889894, 4.79583152,\n",
       "       4.79583152, 4.69041576, 5.        , 5.74456265, 5.29150262,\n",
       "       5.        , 5.        , 5.09901951, 5.19615242, 4.18330013,\n",
       "       4.        , 3.93700394, 3.80788655, 4.69041576, 4.69041576,\n",
       "       4.89897949, 4.74341649, 5.38516481, 4.94974747, 5.38516481,\n",
       "       5.74456265, 4.47213595, 4.24264069, 4.30116263, 4.18330013,\n",
       "       5.43139025, 5.65685425, 5.29150262, 5.14781507, 4.47213595,\n",
       "       3.60555128, 4.35889894, 4.35889894, 4.0620192 , 4.0620192 ,\n",
       "       3.60555128, 3.60555128, 3.60555128, 5.61248608, 5.47722558,\n",
       "       6.        , 5.04975247, 5.78791845, 4.18330013, 4.12310563,\n",
       "       3.93700394, 3.87298335, 4.18330013, 4.52769257, 4.35889894,\n",
       "       4.30116263, 4.        , 3.93700394, 3.93700394, 4.        ,\n",
       "       5.38516481, 4.94974747, 5.09901951, 5.04975247, 5.52268051,\n",
       "       5.78791845, 5.47722558, 5.52268051, 4.69041576, 4.63680925,\n",
       "       4.63680925, 6.56505902, 6.00832755, 5.72712843, 6.27694193,\n",
       "       6.00832755, 4.4609416 , 4.40454311, 4.49444101, 4.38178046,\n",
       "       4.52769257, 4.49444101, 5.00999002, 4.52769257, 4.40454311,\n",
       "       4.53872229, 4.5607017 , 4.31277173, 4.25440948, 4.38178046,\n",
       "       4.20713679, 4.25440948, 4.18330013, 5.47722558, 5.24404424,\n",
       "       5.21536192, 5.55877684, 4.59347363, 4.81663783, 4.87852437,\n",
       "       4.88876262, 4.50555213, 4.12310563, 4.64758002, 4.02492236,\n",
       "       5.61248608, 5.43139025, 4.63680925, 4.44971909, 4.72228758,\n",
       "       4.49444101, 4.53872229, 4.12310563, 4.19523539, 4.0620192 ,\n",
       "       4.2661458 , 4.11096096, 3.93700394, 4.38178046, 4.30116263,\n",
       "       5.6480085 , 5.83952053, 5.9749477 , 5.23450093, 5.03984127,\n",
       "       4.79583152, 5.21536192, 4.88876262, 5.84807661, 5.87367006,\n",
       "       5.63914887, 6.10737259, 5.32916504, 5.36656315, 5.17687164,\n",
       "       5.78791845, 6.44204936, 6.17251974, 5.66568619, 6.09918027,\n",
       "       5.29150262, 5.13809303, 4.92950302, 4.37035468, 5.85662019,\n",
       "       5.45893763, 5.59464029, 6.08276253, 5.67450438, 6.82641927,\n",
       "       5.28204506, 6.38748777, 6.65582452, 6.58786764, 6.03324125,\n",
       "       5.47722558, 6.67832314, 6.39531078, 5.81377674, 5.45893763,\n",
       "       5.71839138, 4.86826458, 5.91607978, 4.85798312, 5.69209979,\n",
       "       5.21536192, 5.15751878, 5.07937004, 4.84767986, 5.47722558,\n",
       "       6.25299928, 6.244998  , 5.9245253 , 5.6833089 , 6.08276253,\n",
       "       6.14003257, 5.83952053, 5.89067059, 5.86515132, 5.46808925,\n",
       "       5.74456265, 5.87367006, 5.80517011, 5.69209979, 5.73585216,\n",
       "       5.62138773, 5.30094331, 0.        , 5.54075807, 5.03984127,\n",
       "       4.91934955, 4.73286383, 5.15751878, 4.49444101, 4.19523539,\n",
       "       5.29150262, 5.19615242, 5.83095189, 5.56776436, 5.38516481,\n",
       "       5.19615242, 4.89897949, 4.79583152, 6.        , 6.08276253,\n",
       "       5.56776436, 6.164414  , 6.        , 6.        , 6.        ,\n",
       "       5.83095189, 6.164414  , 5.65685425, 6.164414  , 5.        ,\n",
       "       6.164414  , 5.09901951, 4.69041576, 5.65685425, 6.        ,\n",
       "       5.19615242, 5.19615242, 6.63324958, 5.65685425, 5.29150262,\n",
       "       5.56776436])"
      ]
     },
     "execution_count": 32,
     "metadata": {},
     "output_type": "execute_result"
    }
   ],
   "source": [
    "x = np.sqrt(mpg)\n",
    "x"
   ]
  },
  {
   "cell_type": "code",
   "execution_count": 33,
   "metadata": {},
   "outputs": [
    {
     "data": {
      "text/plain": [
       "array([ 104976.    ,   50625.    ,  104976.    ,   65536.    ,\n",
       "         83521.    ,   50625.    ,   38416.    ,   38416.    ,\n",
       "         38416.    ,   50625.    ,       0.    ,       0.    ,\n",
       "             0.    ,       0.    ,       0.    ,   50625.    ,\n",
       "         38416.    ,       0.    ,   50625.    ,   38416.    ,\n",
       "        331776.    ,  234256.    ,  104976.    ,  194481.    ,\n",
       "        531441.    ,  456976.    ,  390625.    ,  331776.    ,\n",
       "        390625.    ,  456976.    ,  194481.    ,   10000.    ,\n",
       "         10000.    ,   14641.    ,    6561.    ,  531441.    ,\n",
       "        614656.    ,  390625.    ,  390625.    ,       0.    ,\n",
       "        130321.    ,   65536.    ,   83521.    ,  130321.    ,\n",
       "        104976.    ,   38416.    ,   38416.    ,   38416.    ,\n",
       "         38416.    ,   20736.    ,   28561.    ,   28561.    ,\n",
       "        104976.    ,  234256.    ,  130321.    ,  104976.    ,\n",
       "        279841.    ,  614656.    ,  810000.    ,  810000.    ,\n",
       "        923521.    , 1500625.    ,  531441.    ,  456976.    ,\n",
       "        331776.    ,  390625.    ,  279841.    ,  160000.    ,\n",
       "        194481.    ,   28561.    ,   38416.    ,   50625.    ,\n",
       "         38416.    ,   83521.    ,   14641.    ,   28561.    ,\n",
       "         20736.    ,   28561.    ,  130321.    ,   50625.    ,\n",
       "         28561.    ,   28561.    ,   38416.    ,  104976.    ,\n",
       "        234256.    ,  194481.    ,  456976.    ,  234256.    ,\n",
       "        614656.    ,  279841.    ,  614656.    ,  531441.    ,\n",
       "         28561.    ,   38416.    ,   28561.    ,   38416.    ,\n",
       "         50625.    ,   20736.    ,   28561.    ,   28561.    ,\n",
       "         38416.    ,   28561.    ,   20736.    ,   28561.    ,\n",
       "        104976.    ,   65536.    ,  104976.    ,  104976.    ,\n",
       "        279841.    ,  456976.    ,   14641.    ,   20736.    ,\n",
       "         28561.    ,   20736.    ,  104976.    ,  160000.    ,\n",
       "        194481.    ,  234256.    ,  104976.    ,  130321.    ,\n",
       "        194481.    ,  456976.    ,   50625.    ,   65536.    ,\n",
       "        707281.    ,  331776.    ,  160000.    ,  130321.    ,\n",
       "         50625.    ,  331776.    ,  160000.    ,   14641.    ,\n",
       "        160000.    ,  194481.    ,  130321.    ,   50625.    ,\n",
       "        923521.    ,  456976.    , 1048576.    ,  390625.    ,\n",
       "         65536.    ,   65536.    ,  104976.    ,   65536.    ,\n",
       "         28561.    ,   38416.    ,   38416.    ,   38416.    ,\n",
       "        707281.    ,  456976.    ,  456976.    ,  923521.    ,\n",
       "       1048576.    ,  614656.    ,  331776.    ,  456976.    ,\n",
       "        331776.    ,  456976.    ,  923521.    ,  130321.    ,\n",
       "        104976.    ,   50625.    ,   50625.    ,   65536.    ,\n",
       "         50625.    ,   65536.    ,   38416.    ,   83521.    ,\n",
       "         65536.    ,   50625.    ,  104976.    ,  194481.    ,\n",
       "        160000.    ,   28561.    ,  707281.    ,  279841.    ,\n",
       "        160000.    ,  279841.    ,  331776.    ,  390625.    ,\n",
       "        331776.    ,  104976.    ,  707281.    ,  130321.    ,\n",
       "        279841.    ,  279841.    ,  234256.    ,  390625.    ,\n",
       "       1185921.    ,  614656.    ,  390625.    ,  390625.    ,\n",
       "        456976.    ,  531441.    ,   93789.0625,   65536.    ,\n",
       "         57720.0625,   44205.0625,  234256.    ,  234256.    ,\n",
       "        331776.    ,  256289.0625,  707281.    ,  360300.0625,\n",
       "        707281.    , 1185921.    ,  160000.    ,  104976.    ,\n",
       "        117135.0625,   93789.0625,  757335.0625, 1048576.    ,\n",
       "        614656.    ,  493155.0625,  160000.    ,   28561.    ,\n",
       "        130321.    ,  130321.    ,   74120.0625,   74120.0625,\n",
       "         28561.    ,   28561.    ,   28561.    ,  984560.0625,\n",
       "        810000.    , 1679616.    ,  422825.0625, 1259445.0625,\n",
       "         93789.0625,   83521.    ,   57720.0625,   50625.    ,\n",
       "         93789.0625,  176610.0625,  130321.    ,  117135.0625,\n",
       "         65536.    ,   57720.0625,   57720.0625,   65536.    ,\n",
       "        707281.    ,  360300.0625,  456976.    ,  422825.0625,\n",
       "        865365.0625, 1259445.0625,  810000.    ,  865365.0625,\n",
       "        234256.    ,  213675.0625,  213675.0625, 3450714.9121,\n",
       "       1698356.3041, 1157431.7056, 2409821.5696, 1698356.3041,\n",
       "        156823.9201,  141646.8496,  166496.6416,  135895.4496,\n",
       "        176610.0625,  166496.6416,  396912.6001,  176610.0625,\n",
       "        141646.8496,  180081.4096,  187177.3696,  119688.3216,\n",
       "        107328.3121,  135895.4496,   98150.6241,  107328.3121,\n",
       "         93789.0625,  810000.    ,  571914.0625,  547363.2256,\n",
       "        911662.1361,  198211.9441,  289702.2976,  320854.2736,\n",
       "        326280.8641,  169818.1681,   83521.    ,  217678.2336,\n",
       "         68874.7536,  984560.0625,  757335.0625,  213675.0625,\n",
       "        153695.3616,  247297.3441,  166496.6416,  180081.4096,\n",
       "         83521.    ,   95951.2576,   74120.0625,  109719.9376,\n",
       "         81573.0721,   57720.0625,  135895.4496,  117135.0625,\n",
       "       1035530.1121, 1352127.0961, 1624324.7601,  563640.5776,\n",
       "        416231.4256,  279841.    ,  547363.2256,  326280.8641,\n",
       "       1368057.7296, 1416695.0625, 1022606.3376, 1935687.8641,\n",
       "        650539.0336,  687970.7136,  515868.6976, 1259445.0625,\n",
       "       2966145.0625, 2107171.5921, 1061744.7681, 1915013.1456,\n",
       "        614656.    ,  485753.2416,  348678.4401,  133086.3361,\n",
       "       1384128.7201,  788615.0416,  959792.4961, 1874161.    ,\n",
       "       1075037.1856, 4715672.8336,  605922.1281, 2771026.3296,\n",
       "       3851367.0001, 3547798.2736, 1755519.0016,  810000.    ,\n",
       "       3956757.5056, 2798293.2961, 1305169.1536,  788615.0416,\n",
       "       1143381.1041,  315495.6561, 1500625.    ,  310204.4416,\n",
       "       1101996.0576,  547363.2256,  500641.1536,  443076.6096,\n",
       "        304980.0625,  810000.    , 2337260.0161, 2313441.    ,\n",
       "       1517848.6401, 1088454.0241, 1874161.    , 2020065.2641,\n",
       "       1352127.0961, 1449832.7281, 1400340.8896,  799253.8801,\n",
       "       1185921.    , 1416695.0625, 1289791.7761, 1101996.0576,\n",
       "       1171611.4081,  997122.0736,  623483.9521,       0.    ,\n",
       "        888287.4001,  416231.4256,  342974.2096,  251763.0976,\n",
       "        500641.1536,  166496.6416,   95951.2576,  614656.    ,\n",
       "        531441.    , 1336336.    ,  923521.    ,  707281.    ,\n",
       "        531441.    ,  331776.    ,  279841.    , 1679616.    ,\n",
       "       1874161.    ,  923521.    , 2085136.    , 1679616.    ,\n",
       "       1679616.    , 1679616.    , 1336336.    , 2085136.    ,\n",
       "       1048576.    , 2085136.    ,  390625.    , 2085136.    ,\n",
       "        456976.    ,  234256.    , 1048576.    , 1679616.    ,\n",
       "        531441.    ,  531441.    , 3748096.    , 1048576.    ,\n",
       "        614656.    ,  923521.    ])"
      ]
     },
     "execution_count": 33,
     "metadata": {},
     "output_type": "execute_result"
    }
   ],
   "source": [
    "mpg **4"
   ]
  },
  {
   "cell_type": "markdown",
   "metadata": {},
   "source": [
    "6. What is the ___ of `horsepower`?\n",
    "- sum\n",
    "- min\n",
    "- max\n",
    "- median\n",
    "- Optional: mode (May need to google help)"
   ]
  },
  {
   "cell_type": "code",
   "execution_count": 34,
   "metadata": {},
   "outputs": [
    {
     "name": "stdout",
     "output_type": "stream",
     "text": [
      "                           Car   MPG  Cylinders  Displacement  Horsepower  \\\n",
      "0    Chevrolet Chevelle Malibu  18.0          8         307.0       130.0   \n",
      "1            Buick Skylark 320  15.0          8         350.0       165.0   \n",
      "2           Plymouth Satellite  18.0          8         318.0       150.0   \n",
      "3                AMC Rebel SST  16.0          8         304.0       150.0   \n",
      "4                  Ford Torino  17.0          8         302.0       140.0   \n",
      "..                         ...   ...        ...           ...         ...   \n",
      "401            Ford Mustang GL  27.0          4         140.0        86.0   \n",
      "402          Volkswagen Pickup  44.0          4          97.0        52.0   \n",
      "403              Dodge Rampage  32.0          4         135.0        84.0   \n",
      "404                Ford Ranger  28.0          4         120.0        79.0   \n",
      "405                 Chevy S-10  31.0          4         119.0        82.0   \n",
      "\n",
      "     Weight  Acceleration  Model  Origin  \n",
      "0    3504.0          12.0     70      US  \n",
      "1    3693.0          11.5     70      US  \n",
      "2    3436.0          11.0     70      US  \n",
      "3    3433.0          12.0     70      US  \n",
      "4    3449.0          10.5     70      US  \n",
      "..      ...           ...    ...     ...  \n",
      "401  2790.0          15.6     82      US  \n",
      "402  2130.0          24.6     82  Europe  \n",
      "403  2295.0          11.6     82      US  \n",
      "404  2625.0          18.6     82      US  \n",
      "405  2720.0          19.4     82      US  \n",
      "\n",
      "[406 rows x 9 columns]\n"
     ]
    }
   ],
   "source": [
    "\n",
    "import pandas as pd\n",
    "import numpy as np\n",
    "\n",
    "# Read in dataset\n",
    "df = pd.read_csv('Documents/Data-Science-Assignments/course_material/week_03/cars.csv',delimiter=';')\n",
    "\n",
    "# Convert each column to an np.array\n",
    "car = df.Car.to_numpy()\n",
    "mpg = df.MPG.to_numpy()\n",
    "cylinders = df.Cylinders.to_numpy()\n",
    "displacement = df.Displacement.to_numpy()\n",
    "horsepower = df.Horsepower.to_numpy()\n",
    "weight = df.Weight.to_numpy()\n",
    "acceleration = df.Acceleration.to_numpy()\n",
    "model = df.Model.to_numpy()\n",
    "origin = df.Origin.to_numpy()\n",
    "\n",
    "# create an array of headers\n",
    "headers = np.array(['Car', 'MPG', 'Cylinders', 'Displacement', 'Horsepower', 'Weight','Acceleration', 'Model', 'Origin'])\n",
    "print(df)\n"
   ]
  },
  {
   "cell_type": "code",
   "execution_count": 35,
   "metadata": {},
   "outputs": [
    {
     "data": {
      "text/plain": [
       "42033.0"
      ]
     },
     "execution_count": 35,
     "metadata": {},
     "output_type": "execute_result"
    }
   ],
   "source": [
    "#sum of horsepower\n",
    "sum(horsepower)"
   ]
  },
  {
   "cell_type": "code",
   "execution_count": 36,
   "metadata": {},
   "outputs": [
    {
     "data": {
      "text/plain": [
       "0.0"
      ]
     },
     "execution_count": 36,
     "metadata": {},
     "output_type": "execute_result"
    }
   ],
   "source": [
    "min(horsepower)"
   ]
  },
  {
   "cell_type": "code",
   "execution_count": 37,
   "metadata": {},
   "outputs": [
    {
     "data": {
      "text/plain": [
       "230.0"
      ]
     },
     "execution_count": 37,
     "metadata": {},
     "output_type": "execute_result"
    }
   ],
   "source": [
    "max(horsepower)"
   ]
  },
  {
   "cell_type": "code",
   "execution_count": 40,
   "metadata": {},
   "outputs": [
    {
     "data": {
      "text/plain": [
       "93.5"
      ]
     },
     "execution_count": 40,
     "metadata": {},
     "output_type": "execute_result"
    }
   ],
   "source": [
    "#median\n",
    "a = np.median(horsepower)\n",
    "a"
   ]
  },
  {
   "cell_type": "code",
   "execution_count": 43,
   "metadata": {},
   "outputs": [
    {
     "name": "stdout",
     "output_type": "stream",
     "text": [
      "ModeResult(mode=array([150.]), count=array([22]))\n"
     ]
    }
   ],
   "source": [
    "#mode\n",
    "import numpy as np\n",
    "from scipy import stats\n",
    "m = stats.mode(horsepower)\n",
    "print(m)"
   ]
  },
  {
   "cell_type": "markdown",
   "metadata": {},
   "source": [
    "7. Select a subset of `acceleration`. \n",
    "\n",
    "- Select only the first 5 elements.\n",
    "- Select every other element (new selection)."
   ]
  },
  {
   "cell_type": "code",
   "execution_count": 4,
   "metadata": {},
   "outputs": [
    {
     "name": "stdout",
     "output_type": "stream",
     "text": [
      "                           Car   MPG  Cylinders  Displacement  Horsepower  \\\n",
      "0    Chevrolet Chevelle Malibu  18.0          8         307.0       130.0   \n",
      "1            Buick Skylark 320  15.0          8         350.0       165.0   \n",
      "2           Plymouth Satellite  18.0          8         318.0       150.0   \n",
      "3                AMC Rebel SST  16.0          8         304.0       150.0   \n",
      "4                  Ford Torino  17.0          8         302.0       140.0   \n",
      "..                         ...   ...        ...           ...         ...   \n",
      "401            Ford Mustang GL  27.0          4         140.0        86.0   \n",
      "402          Volkswagen Pickup  44.0          4          97.0        52.0   \n",
      "403              Dodge Rampage  32.0          4         135.0        84.0   \n",
      "404                Ford Ranger  28.0          4         120.0        79.0   \n",
      "405                 Chevy S-10  31.0          4         119.0        82.0   \n",
      "\n",
      "     Weight  Acceleration  Model  Origin  \n",
      "0    3504.0          12.0     70      US  \n",
      "1    3693.0          11.5     70      US  \n",
      "2    3436.0          11.0     70      US  \n",
      "3    3433.0          12.0     70      US  \n",
      "4    3449.0          10.5     70      US  \n",
      "..      ...           ...    ...     ...  \n",
      "401  2790.0          15.6     82      US  \n",
      "402  2130.0          24.6     82  Europe  \n",
      "403  2295.0          11.6     82      US  \n",
      "404  2625.0          18.6     82      US  \n",
      "405  2720.0          19.4     82      US  \n",
      "\n",
      "[406 rows x 9 columns]\n"
     ]
    }
   ],
   "source": [
    "\n",
    "import pandas as pd\n",
    "import numpy as np\n",
    "\n",
    "# Read in dataset\n",
    "df = pd.read_csv('Documents/Data-Science-Assignments/course_material/week_03/cars.csv',delimiter=';')\n",
    "\n",
    "# Convert each column to an np.array\n",
    "car = df.Car.to_numpy()\n",
    "mpg = df.MPG.to_numpy()\n",
    "cylinders = df.Cylinders.to_numpy()\n",
    "displacement = df.Displacement.to_numpy()\n",
    "horsepower = df.Horsepower.to_numpy()\n",
    "weight = df.Weight.to_numpy()\n",
    "acceleration = df.Acceleration.to_numpy()\n",
    "model = df.Model.to_numpy()\n",
    "origin = df.Origin.to_numpy()\n",
    "\n",
    "# create an array of headers\n",
    "headers = np.array(['Car', 'MPG', 'Cylinders', 'Displacement', 'Horsepower', 'Weight','Acceleration', 'Model', 'Origin'])\n",
    "print(df)"
   ]
  },
  {
   "cell_type": "code",
   "execution_count": 6,
   "metadata": {},
   "outputs": [
    {
     "name": "stdout",
     "output_type": "stream",
     "text": [
      "[12.  11.5 11.  12.  10.5]\n"
     ]
    }
   ],
   "source": [
    "#select only the first five elements\n",
    "import numpy as np\n",
    "print (acceleration[0:5])"
   ]
  },
  {
   "cell_type": "code",
   "execution_count": 7,
   "metadata": {},
   "outputs": [
    {
     "name": "stdout",
     "output_type": "stream",
     "text": [
      "[12.  11.  10.5  9.  10.  17.5 11.  11.   8.   9.5 15.  15.5 14.5 17.5\n",
      " 17.5 15.  15.  18.5 15.5 19.  13.  15.5 15.5 11.5 13.  12.  13.5 15.\n",
      " 14.  19.5 19.  19.  15.5 23.5 16.5 12.  13.  11.  13.5 13.5 14.  14.\n",
      " 18.  18.  17.  15.  13.  13.  12.5 12.  14.5 11.  16.5 16.  16.  14.\n",
      " 13.  15.  19.5 13.5 14.  13.  19.5 14.  11.  13.5 16.5 16.  19.  21.\n",
      " 17.  16.5 14.5 16.  16.5 14.5 19.  15.5 15.  16.  16.  19.5 14.  13.5\n",
      " 18.5 19.  13.5 16.  16.  13.5 17.  14.  15.  14.5 17.5 16.9 17.7 13.\n",
      " 13.9 15.4 17.6 22.2 14.2 17.7 16.2 12.2 16.4 15.7 21.9 16.7 12.  14.\n",
      " 14.8 15.5 12.5 13.7 16.4 17.7 11.1 12.2 14.5 18.2 17.  16.4 14.5 13.5\n",
      " 14.4 18.6 15.5 12.8 18.2 15.4 17.2 16.7 15.1 13.4 13.7 14.2 14.5 16.7\n",
      " 14.9 13.6 15.8 16.6 18.2 18.2 15.4 13.2 14.9 15.  14.  14.4 20.1 24.8\n",
      " 13.2 19.2 16.  12.9 14.7 15.5 16.5 20.1 15.8 17.5 15.2 14.4 21.7 19.9\n",
      " 13.8 18.  11.4 15.1 17.  16.4 12.6 16.9 16.1 19.4 16.  16.2 14.2 14.4\n",
      " 14.8 20.4 19.6 13.8 19.  16.6 18.6 16.2 18.  20.5 18.2 14.7 14.5 16.9\n",
      " 15.7 16.4 14.5 13.9 17.3 24.6 18.6]\n"
     ]
    }
   ],
   "source": [
    "#Select every other element (new selection)\n",
    "print(acceleration[::2])"
   ]
  },
  {
   "cell_type": "markdown",
   "metadata": {},
   "source": [
    "8. Show how to select the number `99` in the array below. "
   ]
  },
  {
   "cell_type": "code",
   "execution_count": null,
   "metadata": {},
   "outputs": [],
   "source": [
    "select_99 = np.array([[1,2,3],\n",
    "                      [4,5,99]])"
   ]
  },
  {
   "cell_type": "code",
   "execution_count": 6,
   "metadata": {},
   "outputs": [],
   "source": [
    "import numpy as np\n",
    "select_99 = np.array([[1,2,3],\n",
    "                      [4,5,99]])\n"
   ]
  },
  {
   "cell_type": "code",
   "execution_count": 7,
   "metadata": {},
   "outputs": [
    {
     "data": {
      "text/plain": [
       "array([[ 1,  2,  3],\n",
       "       [ 4,  5, 99]])"
      ]
     },
     "execution_count": 7,
     "metadata": {},
     "output_type": "execute_result"
    }
   ],
   "source": [
    "select_99"
   ]
  },
  {
   "cell_type": "code",
   "execution_count": 13,
   "metadata": {},
   "outputs": [
    {
     "data": {
      "text/plain": [
       "99"
      ]
     },
     "execution_count": 13,
     "metadata": {},
     "output_type": "execute_result"
    }
   ],
   "source": [
    "select_99[1][2]"
   ]
  },
  {
   "cell_type": "markdown",
   "metadata": {},
   "source": [
    "9. Select the last element in each subarray (do this with one operation.)"
   ]
  },
  {
   "cell_type": "code",
   "execution_count": 18,
   "metadata": {},
   "outputs": [],
   "source": [
    "select_more = np.array([[1,2,3],\n",
    "                      [4,5,6],\n",
    "                      [7,8,9]])\n",
    "# returns array([3, 6, 9])"
   ]
  },
  {
   "cell_type": "code",
   "execution_count": 27,
   "metadata": {},
   "outputs": [
    {
     "name": "stdout",
     "output_type": "stream",
     "text": [
      "[3 6 9]\n"
     ]
    }
   ],
   "source": [
    "import numpy as np\n",
    "\n",
    "select_more = np.array([[1,2,3],\n",
    "                      [4,5,6],\n",
    "                      [7,8,9]])\n",
    "print(select_more[0:3, 2])\n"
   ]
  },
  {
   "cell_type": "markdown",
   "metadata": {},
   "source": [
    "10. Use the built-in `np.lookfor()` function to search for `'log'`.\n",
    "\n",
    "Use the function you find and apply it to `mpg`."
   ]
  },
  {
   "cell_type": "code",
   "execution_count": null,
   "metadata": {},
   "outputs": [],
   "source": [
    "import numpy as np\n",
    "x = np.lookfor('log')\n",
    "print(x)"
   ]
  },
  {
   "cell_type": "code",
   "execution_count": 10,
   "metadata": {},
   "outputs": [
    {
     "name": "stdout",
     "output_type": "stream",
     "text": [
      "                           Car   MPG  Cylinders  Displacement  Horsepower  \\\n",
      "0    Chevrolet Chevelle Malibu  18.0          8         307.0       130.0   \n",
      "1            Buick Skylark 320  15.0          8         350.0       165.0   \n",
      "2           Plymouth Satellite  18.0          8         318.0       150.0   \n",
      "3                AMC Rebel SST  16.0          8         304.0       150.0   \n",
      "4                  Ford Torino  17.0          8         302.0       140.0   \n",
      "..                         ...   ...        ...           ...         ...   \n",
      "401            Ford Mustang GL  27.0          4         140.0        86.0   \n",
      "402          Volkswagen Pickup  44.0          4          97.0        52.0   \n",
      "403              Dodge Rampage  32.0          4         135.0        84.0   \n",
      "404                Ford Ranger  28.0          4         120.0        79.0   \n",
      "405                 Chevy S-10  31.0          4         119.0        82.0   \n",
      "\n",
      "     Weight  Acceleration  Model  Origin  \n",
      "0    3504.0          12.0     70      US  \n",
      "1    3693.0          11.5     70      US  \n",
      "2    3436.0          11.0     70      US  \n",
      "3    3433.0          12.0     70      US  \n",
      "4    3449.0          10.5     70      US  \n",
      "..      ...           ...    ...     ...  \n",
      "401  2790.0          15.6     82      US  \n",
      "402  2130.0          24.6     82  Europe  \n",
      "403  2295.0          11.6     82      US  \n",
      "404  2625.0          18.6     82      US  \n",
      "405  2720.0          19.4     82      US  \n",
      "\n",
      "[406 rows x 9 columns]\n"
     ]
    }
   ],
   "source": [
    "#Starter code. Do NOT modify this cell\n",
    "import pandas as pd\n",
    "import numpy as np\n",
    "\n",
    "# Read in dataset\n",
    "df = pd.read_csv('Documents/Data-Science-Assignments/course_material/week_03/cars.csv',delimiter=';')\n",
    "\n",
    "# Convert each column to an np.array\n",
    "car = df.Car.to_numpy()\n",
    "mpg = df.MPG.to_numpy()\n",
    "cylinders = df.Cylinders.to_numpy()\n",
    "displacement = df.Displacement.to_numpy()\n",
    "horsepower = df.Horsepower.to_numpy()\n",
    "weight = df.Weight.to_numpy()\n",
    "acceleration = df.Acceleration.to_numpy()\n",
    "model = df.Model.to_numpy()\n",
    "origin = df.Origin.to_numpy()\n",
    "\n",
    "# create an array of headers\n",
    "headers = np.array(['Car', 'MPG', 'Cylinders', 'Displacement', 'Horsepower', 'Weight','Acceleration', 'Model', 'Origin'])\n",
    "print(df)"
   ]
  },
  {
   "cell_type": "code",
   "execution_count": 13,
   "metadata": {},
   "outputs": [
    {
     "data": {
      "text/plain": [
       "array([4.169925  , 3.9068906 , 4.169925  , 4.        , 4.08746284,\n",
       "       3.9068906 , 3.80735492, 3.80735492, 3.80735492, 3.9068906 ,\n",
       "             -inf,       -inf,       -inf,       -inf,       -inf,\n",
       "       3.9068906 , 3.80735492,       -inf, 3.9068906 , 3.80735492,\n",
       "       4.5849625 , 4.45943162, 4.169925  , 4.39231742, 4.7548875 ,\n",
       "       4.70043972, 4.64385619, 4.5849625 , 4.64385619, 4.70043972,\n",
       "       4.39231742, 3.32192809, 3.32192809, 3.45943162, 3.169925  ,\n",
       "       4.7548875 , 4.80735492, 4.64385619, 4.64385619,       -inf,\n",
       "       4.24792751, 4.        , 4.08746284, 4.24792751, 4.169925  ,\n",
       "       3.80735492, 3.80735492, 3.80735492, 3.80735492, 3.5849625 ,\n",
       "       3.70043972, 3.70043972, 4.169925  , 4.45943162, 4.24792751,\n",
       "       4.169925  , 4.52356196, 4.80735492, 4.9068906 , 4.9068906 ,\n",
       "       4.95419631, 5.12928302, 4.7548875 , 4.70043972, 4.5849625 ,\n",
       "       4.64385619, 4.52356196, 4.32192809, 4.39231742, 3.70043972,\n",
       "       3.80735492, 3.9068906 , 3.80735492, 4.08746284, 3.45943162,\n",
       "       3.70043972, 3.5849625 , 3.70043972, 4.24792751, 3.9068906 ,\n",
       "       3.70043972, 3.70043972, 3.80735492, 4.169925  , 4.45943162,\n",
       "       4.39231742, 4.70043972, 4.45943162, 4.80735492, 4.52356196,\n",
       "       4.80735492, 4.7548875 , 3.70043972, 3.80735492, 3.70043972,\n",
       "       3.80735492, 3.9068906 , 3.5849625 , 3.70043972, 3.70043972,\n",
       "       3.80735492, 3.70043972, 3.5849625 , 3.70043972, 4.169925  ,\n",
       "       4.        , 4.169925  , 4.169925  , 4.52356196, 4.70043972,\n",
       "       3.45943162, 3.5849625 , 3.70043972, 3.5849625 , 4.169925  ,\n",
       "       4.32192809, 4.39231742, 4.45943162, 4.169925  , 4.24792751,\n",
       "       4.39231742, 4.70043972, 3.9068906 , 4.        , 4.857981  ,\n",
       "       4.5849625 , 4.32192809, 4.24792751, 3.9068906 , 4.5849625 ,\n",
       "       4.32192809, 3.45943162, 4.32192809, 4.39231742, 4.24792751,\n",
       "       3.9068906 , 4.95419631, 4.70043972, 5.        , 4.64385619,\n",
       "       4.        , 4.        , 4.169925  , 4.        , 3.70043972,\n",
       "       3.80735492, 3.80735492, 3.80735492, 4.857981  , 4.70043972,\n",
       "       4.70043972, 4.95419631, 5.        , 4.80735492, 4.5849625 ,\n",
       "       4.70043972, 4.5849625 , 4.70043972, 4.95419631, 4.24792751,\n",
       "       4.169925  , 3.9068906 , 3.9068906 , 4.        , 3.9068906 ,\n",
       "       4.        , 3.80735492, 4.08746284, 4.        , 3.9068906 ,\n",
       "       4.169925  , 4.39231742, 4.32192809, 3.70043972, 4.857981  ,\n",
       "       4.52356196, 4.32192809, 4.52356196, 4.5849625 , 4.64385619,\n",
       "       4.5849625 , 4.169925  , 4.857981  , 4.24792751, 4.52356196,\n",
       "       4.52356196, 4.45943162, 4.64385619, 5.04439412, 4.80735492,\n",
       "       4.64385619, 4.64385619, 4.70043972, 4.7548875 , 4.12928302,\n",
       "       4.        , 3.95419631, 3.857981  , 4.45943162, 4.45943162,\n",
       "       4.5849625 , 4.4918531 , 4.857981  , 4.61470984, 4.857981  ,\n",
       "       5.04439412, 4.32192809, 4.169925  , 4.20945337, 4.12928302,\n",
       "       4.88264305, 5.        , 4.80735492, 4.72792045, 4.32192809,\n",
       "       3.70043972, 4.24792751, 4.24792751, 4.04439412, 4.04439412,\n",
       "       3.70043972, 3.70043972, 3.70043972, 4.97727992, 4.9068906 ,\n",
       "       5.169925  , 4.67242534, 5.06608919, 4.12928302, 4.08746284,\n",
       "       3.95419631, 3.9068906 , 4.12928302, 4.357552  , 4.24792751,\n",
       "       4.20945337, 4.        , 3.95419631, 3.95419631, 4.        ,\n",
       "       4.857981  , 4.61470984, 4.70043972, 4.67242534, 4.93073734,\n",
       "       5.06608919, 4.9068906 , 4.93073734, 4.45943162, 4.42626475,\n",
       "       4.42626475, 5.42961596, 5.17392693, 5.03562391, 5.30012372,\n",
       "       5.17392693, 4.31469653, 4.27798475, 4.33628339, 4.26303441,\n",
       "       4.357552  , 4.33628339, 4.64961546, 4.357552  , 4.27798475,\n",
       "       4.36457243, 4.37851162, 4.21723072, 4.17791779, 4.26303441,\n",
       "       4.14567746, 4.17791779, 4.12928302, 4.9068906 , 4.78135971,\n",
       "       4.76553475, 4.94953493, 4.39917109, 4.5360529 , 4.57288967,\n",
       "       4.57893871, 4.34340782, 4.08746284, 4.43295941, 4.01792191,\n",
       "       4.97727992, 4.88264305, 4.42626475, 4.30742853, 4.47897181,\n",
       "       4.33628339, 4.36457243, 4.08746284, 4.13750352, 4.04439412,\n",
       "       4.18586655, 4.07895134, 3.95419631, 4.26303441, 4.20945337,\n",
       "       4.99548452, 5.09169983, 5.15785217, 4.77610399, 4.66675659,\n",
       "       4.52356196, 4.76553475, 4.57893871, 5.09592442, 5.10852446,\n",
       "       4.99095486, 5.22110373, 4.82781902, 4.84799691, 4.7441611 ,\n",
       "       5.06608919, 5.37503943, 5.25171909, 5.00450139, 5.21723072,\n",
       "       4.80735492, 4.72246602, 4.60288441, 4.25550073, 5.10013667,\n",
       "       4.89724043, 4.96809075, 5.20945337, 5.00898878, 5.54225805,\n",
       "       4.80219322, 5.35049725, 5.46923479, 5.43962314, 5.18586655,\n",
       "       4.9068906 , 5.47897181, 5.35402894, 5.07895134, 4.89724043,\n",
       "       5.03121873, 4.56681515, 5.12928302, 4.56071495, 5.01792191,\n",
       "       4.76553475, 4.73335434, 4.68929916, 4.55458885, 4.9068906 ,\n",
       "       5.2890967 , 5.28540222, 5.13339913, 5.01346226, 5.20945337,\n",
       "       5.23649262, 5.09169983, 5.11686376, 5.10433666, 4.90207358,\n",
       "       5.04439412, 5.10852446, 5.07467669, 5.01792191, 5.04001568,\n",
       "       4.98185265, 4.81249823,       -inf, 4.94016675, 4.66675659,\n",
       "       4.59693514, 4.48542683, 4.73335434, 4.33628339, 4.13750352,\n",
       "       4.80735492, 4.7548875 , 5.08746284, 4.95419631, 4.857981  ,\n",
       "       4.7548875 , 4.5849625 , 4.52356196, 5.169925  , 5.20945337,\n",
       "       4.95419631, 5.24792751, 5.169925  , 5.169925  , 5.169925  ,\n",
       "       5.08746284, 5.24792751, 5.        , 5.24792751, 4.64385619,\n",
       "       5.24792751, 4.70043972, 4.45943162, 5.        , 5.169925  ,\n",
       "       4.7548875 , 4.7548875 , 5.45943162, 5.        , 4.80735492,\n",
       "       4.95419631])"
      ]
     },
     "execution_count": 13,
     "metadata": {},
     "output_type": "execute_result"
    }
   ],
   "source": [
    "np.log2(mpg)"
   ]
  },
  {
   "cell_type": "markdown",
   "metadata": {},
   "source": [
    "11. You your google skills to find the unique items in `origin`. (This may not have been covered in the readings.)"
   ]
  },
  {
   "cell_type": "code",
   "execution_count": null,
   "metadata": {},
   "outputs": [],
   "source": [
    "The unique() function is used to find the unique elements of an array."
   ]
  },
  {
   "cell_type": "markdown",
   "metadata": {},
   "source": [
    "12. \n",
    "- Create a 2D array and print its shape as well as ndim. (Any shape is fine)\n",
    "\n",
    "- Create a 3D array and print its shape as well as ndim.\n",
    "\n",
    "- Create a 4D array and print its shape as well as ndim. *It's hard to visualize 4-Dimensions but numpy can do it with ease!*"
   ]
  },
  {
   "cell_type": "code",
   "execution_count": 49,
   "metadata": {},
   "outputs": [],
   "source": [
    "# createing a 2D array\n",
    "import numpy as np\n",
    "a = np.array(([2,3,4,5],[6,7,8,9]))"
   ]
  },
  {
   "cell_type": "code",
   "execution_count": 65,
   "metadata": {},
   "outputs": [
    {
     "name": "stdout",
     "output_type": "stream",
     "text": [
      "shape: (2, 4)\n",
      "Dimension: 2\n"
     ]
    }
   ],
   "source": [
    "a\n",
    "print(\"shape:\", a.shape)\n",
    "print(\"Dimension:\", a.ndim)"
   ]
  },
  {
   "cell_type": "code",
   "execution_count": 75,
   "metadata": {},
   "outputs": [
    {
     "name": "stdout",
     "output_type": "stream",
     "text": [
      "shape: (1, 4, 4)\n",
      "Diamension: 3\n"
     ]
    }
   ],
   "source": [
    "# create 3D array\n",
    "import numpy as np\n",
    "b = np.array([[[1,2,3,4],[5,6,7,8],\n",
    "               [1,1,5,7],[1,3,9,7]]])\n",
    "print(\"shape:\", b.shape)\n",
    "print(\"Diamension:\", b.ndim)"
   ]
  },
  {
   "cell_type": "code",
   "execution_count": 76,
   "metadata": {},
   "outputs": [
    {
     "data": {
      "text/plain": [
       "array([[[1, 2, 3, 4],\n",
       "        [5, 6, 7, 8],\n",
       "        [1, 1, 5, 7],\n",
       "        [1, 3, 9, 7]]])"
      ]
     },
     "execution_count": 76,
     "metadata": {},
     "output_type": "execute_result"
    }
   ],
   "source": [
    "b"
   ]
  },
  {
   "cell_type": "code",
   "execution_count": 77,
   "metadata": {},
   "outputs": [],
   "source": [
    "# create 4D array\n",
    "import numpy as np\n",
    "a = np.array([[[1,2,3],[4,5,6]],[[7,8,9],[10,11,12]],[[13,14,15],[16,17,18]]])\n",
    "a = np.expand_dims(a, axis=0)\n",
    "a = np.repeat(a, 4, axis=0)"
   ]
  },
  {
   "cell_type": "code",
   "execution_count": 78,
   "metadata": {},
   "outputs": [
    {
     "data": {
      "text/plain": [
       "array([[[[ 1,  2,  3],\n",
       "         [ 4,  5,  6]],\n",
       "\n",
       "        [[ 7,  8,  9],\n",
       "         [10, 11, 12]],\n",
       "\n",
       "        [[13, 14, 15],\n",
       "         [16, 17, 18]]],\n",
       "\n",
       "\n",
       "       [[[ 1,  2,  3],\n",
       "         [ 4,  5,  6]],\n",
       "\n",
       "        [[ 7,  8,  9],\n",
       "         [10, 11, 12]],\n",
       "\n",
       "        [[13, 14, 15],\n",
       "         [16, 17, 18]]],\n",
       "\n",
       "\n",
       "       [[[ 1,  2,  3],\n",
       "         [ 4,  5,  6]],\n",
       "\n",
       "        [[ 7,  8,  9],\n",
       "         [10, 11, 12]],\n",
       "\n",
       "        [[13, 14, 15],\n",
       "         [16, 17, 18]]],\n",
       "\n",
       "\n",
       "       [[[ 1,  2,  3],\n",
       "         [ 4,  5,  6]],\n",
       "\n",
       "        [[ 7,  8,  9],\n",
       "         [10, 11, 12]],\n",
       "\n",
       "        [[13, 14, 15],\n",
       "         [16, 17, 18]]]])"
      ]
     },
     "execution_count": 78,
     "metadata": {},
     "output_type": "execute_result"
    }
   ],
   "source": [
    "a"
   ]
  },
  {
   "cell_type": "code",
   "execution_count": 80,
   "metadata": {},
   "outputs": [
    {
     "name": "stdout",
     "output_type": "stream",
     "text": [
      "shape: (4, 3, 2, 3)\n",
      "Dimension: 4\n"
     ]
    }
   ],
   "source": [
    "print(\"shape:\",a.shape)\n",
    "print(\"Dimension:\",a.ndim)"
   ]
  },
  {
   "cell_type": "markdown",
   "metadata": {},
   "source": [
    "13.Use boolean indexing to create an array of `True/False` using `origin` and the value 'US'."
   ]
  },
  {
   "cell_type": "code",
   "execution_count": 57,
   "metadata": {},
   "outputs": [
    {
     "name": "stdout",
     "output_type": "stream",
     "text": [
      "                           Car   MPG  Cylinders  Displacement  Horsepower  \\\n",
      "0    Chevrolet Chevelle Malibu  18.0          8         307.0       130.0   \n",
      "1            Buick Skylark 320  15.0          8         350.0       165.0   \n",
      "2           Plymouth Satellite  18.0          8         318.0       150.0   \n",
      "3                AMC Rebel SST  16.0          8         304.0       150.0   \n",
      "4                  Ford Torino  17.0          8         302.0       140.0   \n",
      "..                         ...   ...        ...           ...         ...   \n",
      "401            Ford Mustang GL  27.0          4         140.0        86.0   \n",
      "402          Volkswagen Pickup  44.0          4          97.0        52.0   \n",
      "403              Dodge Rampage  32.0          4         135.0        84.0   \n",
      "404                Ford Ranger  28.0          4         120.0        79.0   \n",
      "405                 Chevy S-10  31.0          4         119.0        82.0   \n",
      "\n",
      "     Weight  Acceleration  Model  Origin  \n",
      "0    3504.0          12.0     70      US  \n",
      "1    3693.0          11.5     70      US  \n",
      "2    3436.0          11.0     70      US  \n",
      "3    3433.0          12.0     70      US  \n",
      "4    3449.0          10.5     70      US  \n",
      "..      ...           ...    ...     ...  \n",
      "401  2790.0          15.6     82      US  \n",
      "402  2130.0          24.6     82  Europe  \n",
      "403  2295.0          11.6     82      US  \n",
      "404  2625.0          18.6     82      US  \n",
      "405  2720.0          19.4     82      US  \n",
      "\n",
      "[406 rows x 9 columns]\n"
     ]
    }
   ],
   "source": [
    "#Starter code. Do NOT modify this cell\n",
    "import pandas as pd\n",
    "import numpy as np\n",
    "\n",
    "# Read in dataset\n",
    "df = pd.read_csv('Documents/Data-Science-Assignments/course_material/week_03/cars.csv',delimiter=';')\n",
    "\n",
    "# Convert each column to an np.array\n",
    "car = df.Car.to_numpy()\n",
    "mpg = df.MPG.to_numpy()\n",
    "cylinders = df.Cylinders.to_numpy()\n",
    "displacement = df.Displacement.to_numpy()\n",
    "horsepower = df.Horsepower.to_numpy()\n",
    "weight = df.Weight.to_numpy()\n",
    "acceleration = df.Acceleration.to_numpy()\n",
    "model = df.Model.to_numpy()\n",
    "origin = df.Origin.to_numpy()\n",
    "\n",
    "# create an array of headers\n",
    "headers = np.array(['Car', 'MPG', 'Cylinders', 'Displacement', 'Horsepower', 'Weight','Acceleration', 'Model', 'Origin'])\n",
    "print(df)"
   ]
  },
  {
   "cell_type": "code",
   "execution_count": 62,
   "metadata": {
    "scrolled": true
   },
   "outputs": [
    {
     "data": {
      "text/plain": [
       "array([ True,  True,  True,  True,  True,  True,  True,  True,  True,\n",
       "        True, False,  True,  True,  True,  True,  True,  True,  True,\n",
       "        True,  True, False,  True,  True,  True, False, False, False,\n",
       "       False, False, False,  True,  True,  True,  True,  True, False,\n",
       "        True, False,  True, False,  True,  True,  True,  True,  True,\n",
       "        True,  True,  True,  True,  True,  True,  True,  True,  True,\n",
       "        True,  True,  True, False, False, False, False, False, False,\n",
       "        True, False,  True, False,  True,  True,  True,  True,  True,\n",
       "        True,  True,  True,  True,  True,  True, False,  True,  True,\n",
       "        True,  True, False, False, False, False,  True, False, False,\n",
       "        True, False,  True,  True,  True,  True,  True,  True,  True,\n",
       "        True,  True,  True,  True,  True,  True,  True,  True,  True,\n",
       "        True, False,  True,  True,  True,  True,  True, False,  True,\n",
       "       False, False,  True,  True, False,  True,  True, False, False,\n",
       "       False, False,  True, False, False,  True,  True,  True,  True,\n",
       "        True, False,  True, False,  True,  True,  True,  True,  True,\n",
       "        True,  True,  True,  True, False, False, False, False, False,\n",
       "        True, False, False, False, False, False,  True,  True,  True,\n",
       "        True,  True,  True,  True,  True,  True,  True,  True,  True,\n",
       "        True,  True,  True, False,  True,  True,  True, False, False,\n",
       "       False,  True, False,  True, False, False, False, False, False,\n",
       "       False, False,  True,  True, False,  True,  True,  True,  True,\n",
       "        True,  True,  True,  True,  True,  True, False, False,  True,\n",
       "        True,  True,  True, False, False, False,  True, False,  True,\n",
       "       False, False, False,  True,  True,  True,  True, False,  True,\n",
       "       False,  True, False,  True,  True,  True,  True,  True,  True,\n",
       "        True,  True,  True,  True,  True,  True, False,  True, False,\n",
       "        True,  True,  True, False, False, False, False, False, False,\n",
       "        True, False, False, False,  True,  True,  True,  True,  True,\n",
       "        True,  True,  True,  True,  True,  True,  True,  True,  True,\n",
       "        True,  True,  True,  True, False, False,  True, False,  True,\n",
       "        True, False, False, False, False, False, False, False,  True,\n",
       "        True,  True,  True,  True,  True,  True,  True,  True,  True,\n",
       "        True,  True,  True, False, False,  True,  True, False,  True,\n",
       "       False,  True,  True,  True, False, False,  True,  True,  True,\n",
       "        True, False, False,  True, False,  True,  True,  True,  True,\n",
       "       False, False, False, False, False, False,  True, False, False,\n",
       "       False, False, False, False, False, False, False, False, False,\n",
       "       False,  True, False,  True,  True,  True,  True,  True, False,\n",
       "        True, False, False, False, False, False,  True,  True,  True,\n",
       "       False, False, False, False, False, False, False, False, False,\n",
       "       False, False,  True,  True,  True,  True,  True,  True,  True,\n",
       "        True,  True,  True,  True,  True, False, False, False,  True,\n",
       "        True, False, False, False, False, False, False,  True,  True,\n",
       "        True,  True, False,  True,  True,  True, False,  True,  True,\n",
       "        True])"
      ]
     },
     "execution_count": 62,
     "metadata": {},
     "output_type": "execute_result"
    }
   ],
   "source": [
    "origin == \"US\""
   ]
  },
  {
   "cell_type": "markdown",
   "metadata": {},
   "source": [
    "14. Apply your index (from above) to the `car` array. You should now only see cars that are of US origin. "
   ]
  },
  {
   "cell_type": "code",
   "execution_count": 48,
   "metadata": {},
   "outputs": [
    {
     "name": "stdout",
     "output_type": "stream",
     "text": [
      "                           Car   MPG  Cylinders  Displacement  Horsepower  \\\n",
      "0    Chevrolet Chevelle Malibu  18.0          8         307.0       130.0   \n",
      "1            Buick Skylark 320  15.0          8         350.0       165.0   \n",
      "2           Plymouth Satellite  18.0          8         318.0       150.0   \n",
      "3                AMC Rebel SST  16.0          8         304.0       150.0   \n",
      "4                  Ford Torino  17.0          8         302.0       140.0   \n",
      "..                         ...   ...        ...           ...         ...   \n",
      "401            Ford Mustang GL  27.0          4         140.0        86.0   \n",
      "402          Volkswagen Pickup  44.0          4          97.0        52.0   \n",
      "403              Dodge Rampage  32.0          4         135.0        84.0   \n",
      "404                Ford Ranger  28.0          4         120.0        79.0   \n",
      "405                 Chevy S-10  31.0          4         119.0        82.0   \n",
      "\n",
      "     Weight  Acceleration  Model  Origin  \n",
      "0    3504.0          12.0     70      US  \n",
      "1    3693.0          11.5     70      US  \n",
      "2    3436.0          11.0     70      US  \n",
      "3    3433.0          12.0     70      US  \n",
      "4    3449.0          10.5     70      US  \n",
      "..      ...           ...    ...     ...  \n",
      "401  2790.0          15.6     82      US  \n",
      "402  2130.0          24.6     82  Europe  \n",
      "403  2295.0          11.6     82      US  \n",
      "404  2625.0          18.6     82      US  \n",
      "405  2720.0          19.4     82      US  \n",
      "\n",
      "[406 rows x 9 columns]\n"
     ]
    }
   ],
   "source": [
    "#Starter code. Do NOT modify this cell\n",
    "import pandas as pd\n",
    "import numpy as np\n",
    "\n",
    "# Read in dataset\n",
    "df = pd.read_csv('Documents/Data-Science-Assignments/course_material/week_03/cars.csv',delimiter=';')\n",
    "\n",
    "# Convert each column to an np.array\n",
    "car = df.Car.to_numpy()\n",
    "mpg = df.MPG.to_numpy()\n",
    "cylinders = df.Cylinders.to_numpy()\n",
    "displacement = df.Displacement.to_numpy()\n",
    "horsepower = df.Horsepower.to_numpy()\n",
    "weight = df.Weight.to_numpy()\n",
    "acceleration = df.Acceleration.to_numpy()\n",
    "model = df.Model.to_numpy()\n",
    "origin = df.Origin.to_numpy()\n",
    "\n",
    "# create an array of headers\n",
    "headers = np.array(['Car', 'MPG', 'Cylinders', 'Displacement', 'Horsepower', 'Weight','Acceleration', 'Model', 'Origin'])\n",
    "print(df)"
   ]
  },
  {
   "cell_type": "code",
   "execution_count": 18,
   "metadata": {},
   "outputs": [
    {
     "data": {
      "text/plain": [
       "array(['Chevrolet Chevelle Malibu', 'Buick Skylark 320',\n",
       "       'Plymouth Satellite', 'AMC Rebel SST', 'Ford Torino',\n",
       "       'Ford Galaxie 500', 'Chevrolet Impala', 'Plymouth Fury iii',\n",
       "       'Pontiac Catalina', 'AMC Ambassador DPL',\n",
       "       'Chevrolet Chevelle Concours (sw)', 'Ford Torino (sw)',\n",
       "       'Plymouth Satellite (sw)', 'AMC Rebel SST (sw)',\n",
       "       'Dodge Challenger SE', \"Plymouth 'Cuda 340\",\n",
       "       'Ford Mustang Boss 302', 'Chevrolet Monte Carlo',\n",
       "       'Buick Estate Wagon (sw)', 'Plymouth Duster', 'AMC Hornet',\n",
       "       'Ford Maverick', 'AMC Gremlin', 'Ford F250', 'Chevy C20',\n",
       "       'Dodge D200', 'Hi 1200D', 'Chevrolet Vega 2300', 'Ford Pinto',\n",
       "       'AMC Gremlin', 'Plymouth Satellite Custom',\n",
       "       'Chevrolet Chevelle Malibu', 'Ford Torino 500', 'AMC Matador',\n",
       "       'Chevrolet Impala', 'Pontiac Catalina Brougham',\n",
       "       'Ford Galaxie 500', 'Plymouth Fury iii', 'Dodge Monaco (sw)',\n",
       "       'Ford Country Squire (sw)', 'Pontiac Safari (sw)',\n",
       "       'AMC Hornet Sportabout (sw)', 'Chevrolet Vega (sw)',\n",
       "       'Pontiac Firebird', 'Ford Mustang', 'Mercury Capri 2000',\n",
       "       'Plymouth Cricket', 'Dodge Colt Hardtop', 'Chevrolet Vega',\n",
       "       'Ford Pinto Runabout', 'Chevrolet Impala', 'Pontiac Catalina',\n",
       "       'Plymouth Fury III', 'Ford Galaxie 500', 'AMC Ambassador SST',\n",
       "       'Mercury Marquis', 'Buick LeSabre Custom',\n",
       "       'Oldsmobile Delta 88 Royale', 'Chrysler Newport Royal',\n",
       "       'AMC Matador (sw)', 'Chevrolet Chevelle Concours (sw)',\n",
       "       'Ford Gran Torino (sw)', 'Plymouth Satellite Custom (sw)',\n",
       "       'Ford Pinto (sw)', 'Dodge Colt (sw)', 'Buick Century 350',\n",
       "       'AMC Matador', 'Chevrolet Malibu', 'Ford Gran Torino',\n",
       "       'Dodge Coronet Custom', 'Mercury Marquis Brougham',\n",
       "       'Chevrolet Caprice Classic', 'Ford LTD',\n",
       "       'Plymouth Fury Gran Sedan', 'Chrysler New Yorker Brougham',\n",
       "       'Buick Electra 225 Custom', 'AMC Ambassador Brougham',\n",
       "       'Plymouth Valiant', 'Chevrolet Nova Custom', 'AMC Hornet',\n",
       "       'Ford Maverick', 'Plymouth Duster', 'Chevrolet Impala',\n",
       "       'Ford Country', 'Plymouth Custom Suburb',\n",
       "       'Oldsmobile Vista Cruiser', 'AMC Gremlin', 'Chevrolet Vega',\n",
       "       'Ford Pinto', 'Mercury Capri v6', 'Chevrolet Monte Carlo S',\n",
       "       'Pontiac Grand Prix', 'Dodge Dart Custom', 'Oldsmobile Omega',\n",
       "       'Plymouth Duster', 'Ford Maverick', 'AMC Hornet', 'Chevrolet Nova',\n",
       "       'Ford Pinto', 'Chevrolet Vega',\n",
       "       'Chevrolet Chevelle Malibu Classic', 'AMC Matador',\n",
       "       'Plymouth Satellite Sebring', 'Ford Gran Torino',\n",
       "       'Buick Century Luxus (sw)', 'Dodge Coronet Custom (sw)',\n",
       "       'Ford Gran Torino (sw)', 'AMC Matador (sw)', 'Dodge Colt',\n",
       "       'Plymouth Valiant Custom', 'Chevrolet Nova', 'Mercury Monarch',\n",
       "       'Ford Maverick', 'Pontiac Catalina', 'Chevrolet Bel Air',\n",
       "       'Plymouth Grand Fury', 'Ford LTD', 'Buick Century',\n",
       "       'Chevrolete Chevelle Malibu', 'AMC Matador', 'Plymouth Fury',\n",
       "       'Buick Skyhawk', 'Chevrolet Monza 2+2', 'Ford Mustang II',\n",
       "       'Ford Pinto', 'AMC Gremlin', 'Pontiac Astro', 'Ford Pinto',\n",
       "       'AMC Pacer', 'Capri ii', 'Dodge Colt',\n",
       "       'Chevrolet Chevelle Malibu Classic', 'Dodge Coronet Brougham',\n",
       "       'AMC Matador', 'Ford Gran Torino', 'Plymouth Valiant',\n",
       "       'Chevrolet Nova', 'Ford Maverick', 'AMC Hornet',\n",
       "       'Chevrolet Chevette', 'Chevrolet Woody', 'Dodge Aspen SE',\n",
       "       'Ford Grenada ghia', 'Pontiac Ventura SJ', 'AMC Pacer d/l',\n",
       "       'Ford Pinto', 'Plymouth Volare Premier v8', 'Cadillac Seville',\n",
       "       'Chevrolet C10', 'Ford F108', 'Dodge D100',\n",
       "       'Buick Opel Isuzu Deluxe', 'Plymouth Arrow GS',\n",
       "       'Chevrolet Caprice Classic', 'Oldsmobile Cutlass Supreme',\n",
       "       'Dodge Monaco Brougham', 'Mercury Cougar Brougham',\n",
       "       'Chevrolet Concours', 'Buick Skylark', 'Plymouth Volare Custom',\n",
       "       'Ford Grenada', 'Pontiac Grand Prix LJ',\n",
       "       'Chevrolet Monte Carlo Landau', 'Chrysler Cordoba',\n",
       "       'Ford Thunderbird', 'Pontiac Sunbird Coupe', 'Ford Mustang II 2+2',\n",
       "       'Chevrolet Chevette', 'Dodge Colt m/m', 'Ford Fiesta',\n",
       "       'Oldsmobile Cutlass Salon Brougham', 'Dodge Diplomat',\n",
       "       'Mercury Monarch ghia', 'Pontiac Phoenix LJ', 'Chevrolet Malibu',\n",
       "       'Ford Fairmont (auto)', 'Ford Fairmont (man)', 'Plymouth Volare',\n",
       "       'AMC Concord', 'Buick Century Special', 'Mercury Zephyr',\n",
       "       'Dodge Aspen', 'AMC Concord d/l', 'Chevrolet Monte Carlo Landau',\n",
       "       'Buick Regal Sport Coupe (turbo)', 'Ford Futura',\n",
       "       'Dodge Magnum XE', 'Chevrolet Chevette', 'Dodge Omni',\n",
       "       'Plymouth Sapporo', 'Oldsmobile Starfire SX', 'Pontiac Lemans V6',\n",
       "       'Mercury Zephyr 6', 'Ford Fairmont 4', 'AMC Concord DL 6',\n",
       "       'Dodge Aspen 6', 'Chevrolet Caprice Classic', 'Ford LTD Landau',\n",
       "       'Mercury Grand Marquis', 'Dodge St. Regis',\n",
       "       'Buick Estate Wagon (sw)', 'Ford Country Squire (sw)',\n",
       "       'Chevrolet Malibu Classic (sw)',\n",
       "       'Chrysler Lebaron Town @ Country (sw)',\n",
       "       'Dodge Colt Hatchback Custom', 'AMC Spirit DL',\n",
       "       'Cadillac Eldorado', 'Oldsmobile Cutlass Salon Brougham',\n",
       "       'Plymouth Horizon', 'Plymouth Horizon TC3',\n",
       "       'Buick Skylark Limited', 'Chevrolet Citation',\n",
       "       'Oldsmobile Omega Brougham', 'Pontiac Phoenix',\n",
       "       'Chevrolet Chevette', 'Chevrolet Citation', 'Ford Fairmont',\n",
       "       'AMC Concord', 'Dodge Aspen', 'Dodge Colt', 'Ford Mustang Cobra',\n",
       "       'Plymouth Reliant', 'Buick Skylark', 'Dodge Aries Wagon (sw)',\n",
       "       'Chevrolet Citation', 'Plymouth Reliant', 'Plymouth Champ',\n",
       "       'Plymouth Horizon 4', 'Ford Escort 4W', 'Ford Escort 2H',\n",
       "       'Buick Century', 'Oldsmobile Cutlass LS', 'Ford Grenada gl',\n",
       "       'Chrysler Lebaron Salon', 'Chevrolet Cavalier',\n",
       "       'Chevrolet Cavalier Wagon', 'Chevrolet Cavalier 2-door',\n",
       "       'Pontiac J2000 SE Hatchback', 'Dodge Aries SE', 'Pontiac Phoenix',\n",
       "       'Ford Fairmont Futura', 'AMC Concord DL', 'Plymouth Horizon Miser',\n",
       "       'Mercury Lynx l', 'Buick Century Limited',\n",
       "       'Oldsmobile Cutlass Ciera (diesel)', 'Chrysler Lebaron Medallion',\n",
       "       'Ford Grenada l', 'Dodge Charger 2.2', 'Chevrolet Camaro',\n",
       "       'Ford Mustang GL', 'Dodge Rampage', 'Ford Ranger', 'Chevy S-10'],\n",
       "      dtype=object)"
      ]
     },
     "execution_count": 18,
     "metadata": {},
     "output_type": "execute_result"
    }
   ],
   "source": [
    "car[origin == 'US']"
   ]
  },
  {
   "cell_type": "code",
   "execution_count": 17,
   "metadata": {},
   "outputs": [
    {
     "data": {
      "text/plain": [
       "array([ True,  True,  True,  True,  True,  True,  True,  True,  True,\n",
       "        True, False,  True,  True,  True,  True,  True,  True,  True,\n",
       "        True,  True, False,  True,  True,  True, False, False, False,\n",
       "       False, False, False,  True,  True,  True,  True,  True, False,\n",
       "        True, False,  True, False,  True,  True,  True,  True,  True,\n",
       "        True,  True,  True,  True,  True,  True,  True,  True,  True,\n",
       "        True,  True,  True, False, False, False, False, False, False,\n",
       "        True, False,  True, False,  True,  True,  True,  True,  True,\n",
       "        True,  True,  True,  True,  True,  True, False,  True,  True,\n",
       "        True,  True, False, False, False, False,  True, False, False,\n",
       "        True, False,  True,  True,  True,  True,  True,  True,  True,\n",
       "        True,  True,  True,  True,  True,  True,  True,  True,  True,\n",
       "        True, False,  True,  True,  True,  True,  True, False,  True,\n",
       "       False, False,  True,  True, False,  True,  True, False, False,\n",
       "       False, False,  True, False, False,  True,  True,  True,  True,\n",
       "        True, False,  True, False,  True,  True,  True,  True,  True,\n",
       "        True,  True,  True,  True, False, False, False, False, False,\n",
       "        True, False, False, False, False, False,  True,  True,  True,\n",
       "        True,  True,  True,  True,  True,  True,  True,  True,  True,\n",
       "        True,  True,  True, False,  True,  True,  True, False, False,\n",
       "       False,  True, False,  True, False, False, False, False, False,\n",
       "       False, False,  True,  True, False,  True,  True,  True,  True,\n",
       "        True,  True,  True,  True,  True,  True, False, False,  True,\n",
       "        True,  True,  True, False, False, False,  True, False,  True,\n",
       "       False, False, False,  True,  True,  True,  True, False,  True,\n",
       "       False,  True, False,  True,  True,  True,  True,  True,  True,\n",
       "        True,  True,  True,  True,  True,  True, False,  True, False,\n",
       "        True,  True,  True, False, False, False, False, False, False,\n",
       "        True, False, False, False,  True,  True,  True,  True,  True,\n",
       "        True,  True,  True,  True,  True,  True,  True,  True,  True,\n",
       "        True,  True,  True,  True, False, False,  True, False,  True,\n",
       "        True, False, False, False, False, False, False, False,  True,\n",
       "        True,  True,  True,  True,  True,  True,  True,  True,  True,\n",
       "        True,  True,  True, False, False,  True,  True, False,  True,\n",
       "       False,  True,  True,  True, False, False,  True,  True,  True,\n",
       "        True, False, False,  True, False,  True,  True,  True,  True,\n",
       "       False, False, False, False, False, False,  True, False, False,\n",
       "       False, False, False, False, False, False, False, False, False,\n",
       "       False,  True, False,  True,  True,  True,  True,  True, False,\n",
       "        True, False, False, False, False, False,  True,  True,  True,\n",
       "       False, False, False, False, False, False, False, False, False,\n",
       "       False, False,  True,  True,  True,  True,  True,  True,  True,\n",
       "        True,  True,  True,  True,  True, False, False, False,  True,\n",
       "        True, False, False, False, False, False, False,  True,  True,\n",
       "        True,  True, False,  True,  True,  True, False,  True,  True,\n",
       "        True])"
      ]
     },
     "execution_count": 17,
     "metadata": {},
     "output_type": "execute_result"
    }
   ],
   "source": [
    "origin == \"US\"\n",
    "    "
   ]
  },
  {
   "cell_type": "markdown",
   "metadata": {},
   "source": [
    "**The remaining questions are OPTIONAL**: The readings did not address all of these so you may have to use some \"Google-Fu\". "
   ]
  },
  {
   "cell_type": "markdown",
   "metadata": {},
   "source": [
    "1.What is an identity matrix? \n",
    "Create an identiy matrix of size 5 using an np method. "
   ]
  },
  {
   "cell_type": "code",
   "execution_count": null,
   "metadata": {},
   "outputs": [],
   "source": [
    "An identity matrix is a square matrix having 1s on the main diagonal, and zeros everwhere else."
   ]
  },
  {
   "cell_type": "code",
   "execution_count": 2,
   "metadata": {},
   "outputs": [],
   "source": [
    "import numpy as np\n"
   ]
  },
  {
   "cell_type": "code",
   "execution_count": 6,
   "metadata": {},
   "outputs": [],
   "source": [
    " I = np.identity(5)\n"
   ]
  },
  {
   "cell_type": "code",
   "execution_count": 7,
   "metadata": {},
   "outputs": [
    {
     "data": {
      "text/plain": [
       "array([[1., 0., 0., 0., 0.],\n",
       "       [0., 1., 0., 0., 0.],\n",
       "       [0., 0., 1., 0., 0.],\n",
       "       [0., 0., 0., 1., 0.],\n",
       "       [0., 0., 0., 0., 1.]])"
      ]
     },
     "execution_count": 7,
     "metadata": {},
     "output_type": "execute_result"
    }
   ],
   "source": [
    "I"
   ]
  },
  {
   "cell_type": "markdown",
   "metadata": {},
   "source": [
    "2. Transpose the following array. "
   ]
  },
  {
   "cell_type": "code",
   "execution_count": null,
   "metadata": {},
   "outputs": [],
   "source": [
    "transpose_me = np.array([[1,2,3],\n",
    "                      [4,5,6],\n",
    "                      [7,8,9]])\n"
   ]
  },
  {
   "cell_type": "code",
   "execution_count": 8,
   "metadata": {},
   "outputs": [],
   "source": [
    "import numpy as np"
   ]
  },
  {
   "cell_type": "code",
   "execution_count": 11,
   "metadata": {},
   "outputs": [
    {
     "data": {
      "text/plain": [
       "array([[1, 4, 7],\n",
       "       [2, 5, 8],\n",
       "       [3, 6, 9]])"
      ]
     },
     "execution_count": 11,
     "metadata": {},
     "output_type": "execute_result"
    }
   ],
   "source": [
    "transpose_me = np.array([[1,2,3],\n",
    "                      [4,5,6],\n",
    "                      [7,8,9]])\n",
    "\n",
    "transpose_me.transpose((1, 0))"
   ]
  },
  {
   "cell_type": "markdown",
   "metadata": {},
   "source": [
    "3. Why does this multiplication operation fail? "
   ]
  },
  {
   "cell_type": "code",
   "execution_count": null,
   "metadata": {},
   "outputs": [],
   "source": [
    "arr1 = np.array([[1,2,3],\n",
    "                      [4,5,6],\n",
    "                      [7,8,9]])\n",
    "arr2 = np.array([[1,2,3],\n",
    "                      [4,5,6]])\n",
    "\n",
    "arr1 * arr2"
   ]
  },
  {
   "cell_type": "code",
   "execution_count": 17,
   "metadata": {},
   "outputs": [],
   "source": [
    "import numpy as np\n"
   ]
  },
  {
   "cell_type": "code",
   "execution_count": 18,
   "metadata": {},
   "outputs": [],
   "source": [
    "arr1 = np.array([[1,2,3],\n",
    "                      [4,5,6],\n",
    "                      [7,8,9]])\n",
    "arr2 = np.array([[1,2,3],\n",
    "                      [4,5,6]])\n"
   ]
  },
  {
   "cell_type": "code",
   "execution_count": 19,
   "metadata": {},
   "outputs": [
    {
     "data": {
      "text/plain": [
       "array([[1, 2, 3],\n",
       "       [4, 5, 6],\n",
       "       [7, 8, 9]])"
      ]
     },
     "execution_count": 19,
     "metadata": {},
     "output_type": "execute_result"
    }
   ],
   "source": [
    "arr1"
   ]
  },
  {
   "cell_type": "code",
   "execution_count": 24,
   "metadata": {},
   "outputs": [
    {
     "data": {
      "text/plain": [
       "array([[1, 2, 3],\n",
       "       [4, 5, 6]])"
      ]
     },
     "execution_count": 24,
     "metadata": {},
     "output_type": "execute_result"
    }
   ],
   "source": [
    "arr2"
   ]
  },
  {
   "cell_type": "code",
   "execution_count": 25,
   "metadata": {},
   "outputs": [
    {
     "ename": "ValueError",
     "evalue": "shapes (3,3) and (2,3) not aligned: 3 (dim 1) != 2 (dim 0)",
     "output_type": "error",
     "traceback": [
      "\u001b[1;31m---------------------------------------------------------------------------\u001b[0m",
      "\u001b[1;31mValueError\u001b[0m                                Traceback (most recent call last)",
      "\u001b[1;32m<ipython-input-25-31b8b15a099b>\u001b[0m in \u001b[0;36m<module>\u001b[1;34m\u001b[0m\n\u001b[1;32m----> 1\u001b[1;33m \u001b[0mres\u001b[0m \u001b[1;33m=\u001b[0m \u001b[0mnp\u001b[0m\u001b[1;33m.\u001b[0m\u001b[0mdot\u001b[0m\u001b[1;33m(\u001b[0m\u001b[0marr1\u001b[0m\u001b[1;33m,\u001b[0m \u001b[0marr2\u001b[0m\u001b[1;33m)\u001b[0m\u001b[1;33m\u001b[0m\u001b[1;33m\u001b[0m\u001b[0m\n\u001b[0m\u001b[0;32m      2\u001b[0m \u001b[1;33m\u001b[0m\u001b[0m\n\u001b[0;32m      3\u001b[0m \u001b[0mprint\u001b[0m\u001b[1;33m(\u001b[0m\u001b[0mres\u001b[0m\u001b[1;33m)\u001b[0m\u001b[1;33m\u001b[0m\u001b[1;33m\u001b[0m\u001b[0m\n",
      "\u001b[1;32m<__array_function__ internals>\u001b[0m in \u001b[0;36mdot\u001b[1;34m(*args, **kwargs)\u001b[0m\n",
      "\u001b[1;31mValueError\u001b[0m: shapes (3,3) and (2,3) not aligned: 3 (dim 1) != 2 (dim 0)"
     ]
    }
   ],
   "source": [
    "res = np.dot(arr1, arr2) \n",
    " \n",
    "print(res) "
   ]
  },
  {
   "cell_type": "markdown",
   "metadata": {},
   "source": [
    "Use numpy to answer the following questions. "
   ]
  },
  {
   "cell_type": "markdown",
   "metadata": {},
   "source": [
    "4. What is the average horsepower for `Europe` cars? (Hint: create boolean index of 'US' apply it to horsepower and perform the calculation.)"
   ]
  },
  {
   "cell_type": "code",
   "execution_count": 1,
   "metadata": {
    "scrolled": true
   },
   "outputs": [
    {
     "name": "stdout",
     "output_type": "stream",
     "text": [
      "                           Car   MPG  Cylinders  Displacement  Horsepower  \\\n",
      "0    Chevrolet Chevelle Malibu  18.0          8         307.0       130.0   \n",
      "1            Buick Skylark 320  15.0          8         350.0       165.0   \n",
      "2           Plymouth Satellite  18.0          8         318.0       150.0   \n",
      "3                AMC Rebel SST  16.0          8         304.0       150.0   \n",
      "4                  Ford Torino  17.0          8         302.0       140.0   \n",
      "..                         ...   ...        ...           ...         ...   \n",
      "401            Ford Mustang GL  27.0          4         140.0        86.0   \n",
      "402          Volkswagen Pickup  44.0          4          97.0        52.0   \n",
      "403              Dodge Rampage  32.0          4         135.0        84.0   \n",
      "404                Ford Ranger  28.0          4         120.0        79.0   \n",
      "405                 Chevy S-10  31.0          4         119.0        82.0   \n",
      "\n",
      "     Weight  Acceleration  Model  Origin  \n",
      "0    3504.0          12.0     70      US  \n",
      "1    3693.0          11.5     70      US  \n",
      "2    3436.0          11.0     70      US  \n",
      "3    3433.0          12.0     70      US  \n",
      "4    3449.0          10.5     70      US  \n",
      "..      ...           ...    ...     ...  \n",
      "401  2790.0          15.6     82      US  \n",
      "402  2130.0          24.6     82  Europe  \n",
      "403  2295.0          11.6     82      US  \n",
      "404  2625.0          18.6     82      US  \n",
      "405  2720.0          19.4     82      US  \n",
      "\n",
      "[406 rows x 9 columns]\n"
     ]
    }
   ],
   "source": [
    "#Starter code. Do NOT modify this cell\n",
    "import pandas as pd\n",
    "import numpy as np\n",
    "\n",
    "# Read in dataset\n",
    "df = pd.read_csv('Documents/Data-Science-Assignments/course_material/week_03/cars.csv',delimiter=';')\n",
    "\n",
    "# Convert each column to an np.array\n",
    "car = df.Car.to_numpy()\n",
    "mpg = df.MPG.to_numpy()\n",
    "cylinders = df.Cylinders.to_numpy()\n",
    "displacement = df.Displacement.to_numpy()\n",
    "horsepower = df.Horsepower.to_numpy()\n",
    "weight = df.Weight.to_numpy()\n",
    "acceleration = df.Acceleration.to_numpy()\n",
    "model = df.Model.to_numpy()\n",
    "origin = df.Origin.to_numpy()\n",
    "\n",
    "# create an array of headers\n",
    "headers = np.array(['Car', 'MPG', 'Cylinders', 'Displacement', 'Horsepower', 'Weight','Acceleration', 'Model', 'Origin'])\n",
    "print(df)"
   ]
  },
  {
   "cell_type": "code",
   "execution_count": 5,
   "metadata": {},
   "outputs": [
    {
     "name": "stdout",
     "output_type": "stream",
     "text": [
      "78.78082191780823\n"
     ]
    }
   ],
   "source": [
    "horsepower_average = horsepower [origin == 'Europe']\n",
    "hpavg = np.mean(horsepower_average)\n",
    "print(hpavg)"
   ]
  },
  {
   "cell_type": "code",
   "execution_count": 16,
   "metadata": {},
   "outputs": [
    {
     "name": "stdout",
     "output_type": "stream",
     "text": [
      "[ True  True  True  True  True  True  True  True  True  True False  True\n",
      "  True  True  True  True  True  True  True  True False  True  True  True\n",
      " False False False False False False  True  True  True  True  True False\n",
      "  True False  True False  True  True  True  True  True  True  True  True\n",
      "  True  True  True  True  True  True  True  True  True False False False\n",
      " False False False  True False  True False  True  True  True  True  True\n",
      "  True  True  True  True  True  True False  True  True  True  True False\n",
      " False False False  True False False  True False  True  True  True  True\n",
      "  True  True  True  True  True  True  True  True  True  True  True  True\n",
      "  True False  True  True  True  True  True False  True False False  True\n",
      "  True False  True  True False False False False  True False False  True\n",
      "  True  True  True  True False  True False  True  True  True  True  True\n",
      "  True  True  True  True False False False False False  True False False\n",
      " False False False  True  True  True  True  True  True  True  True  True\n",
      "  True  True  True  True  True  True False  True  True  True False False\n",
      " False  True False  True False False False False False False False  True\n",
      "  True False  True  True  True  True  True  True  True  True  True  True\n",
      " False False  True  True  True  True False False False  True False  True\n",
      " False False False  True  True  True  True False  True False  True False\n",
      "  True  True  True  True  True  True  True  True  True  True  True  True\n",
      " False  True False  True  True  True False False False False False False\n",
      "  True False False False  True  True  True  True  True  True  True  True\n",
      "  True  True  True  True  True  True  True  True  True  True False False\n",
      "  True False  True  True False False False False False False False  True\n",
      "  True  True  True  True  True  True  True  True  True  True  True  True\n",
      " False False  True  True False  True False  True  True  True False False\n",
      "  True  True  True  True False False  True False  True  True  True  True\n",
      " False False False False False False  True False False False False False\n",
      " False False False False False False False  True False  True  True  True\n",
      "  True  True False  True False False False False False  True  True  True\n",
      " False False False False False False False False False False False  True\n",
      "  True  True  True  True  True  True  True  True  True  True  True False\n",
      " False False  True  True False False False False False False  True  True\n",
      "  True  True False  True  True  True False  True  True  True]\n",
      "['Chevrolet Chevelle Malibu' 'Buick Skylark 320' 'Plymouth Satellite'\n",
      " 'AMC Rebel SST' 'Ford Torino' 'Ford Galaxie 500' 'Chevrolet Impala'\n",
      " 'Plymouth Fury iii' 'Pontiac Catalina' 'AMC Ambassador DPL'\n",
      " 'Chevrolet Chevelle Concours (sw)' 'Ford Torino (sw)'\n",
      " 'Plymouth Satellite (sw)' 'AMC Rebel SST (sw)' 'Dodge Challenger SE'\n",
      " \"Plymouth 'Cuda 340\" 'Ford Mustang Boss 302' 'Chevrolet Monte Carlo'\n",
      " 'Buick Estate Wagon (sw)' 'Plymouth Duster' 'AMC Hornet' 'Ford Maverick'\n",
      " 'AMC Gremlin' 'Ford F250' 'Chevy C20' 'Dodge D200' 'Hi 1200D'\n",
      " 'Chevrolet Vega 2300' 'Ford Pinto' 'AMC Gremlin'\n",
      " 'Plymouth Satellite Custom' 'Chevrolet Chevelle Malibu' 'Ford Torino 500'\n",
      " 'AMC Matador' 'Chevrolet Impala' 'Pontiac Catalina Brougham'\n",
      " 'Ford Galaxie 500' 'Plymouth Fury iii' 'Dodge Monaco (sw)'\n",
      " 'Ford Country Squire (sw)' 'Pontiac Safari (sw)'\n",
      " 'AMC Hornet Sportabout (sw)' 'Chevrolet Vega (sw)' 'Pontiac Firebird'\n",
      " 'Ford Mustang' 'Mercury Capri 2000' 'Plymouth Cricket'\n",
      " 'Dodge Colt Hardtop' 'Chevrolet Vega' 'Ford Pinto Runabout'\n",
      " 'Chevrolet Impala' 'Pontiac Catalina' 'Plymouth Fury III'\n",
      " 'Ford Galaxie 500' 'AMC Ambassador SST' 'Mercury Marquis'\n",
      " 'Buick LeSabre Custom' 'Oldsmobile Delta 88 Royale'\n",
      " 'Chrysler Newport Royal' 'AMC Matador (sw)'\n",
      " 'Chevrolet Chevelle Concours (sw)' 'Ford Gran Torino (sw)'\n",
      " 'Plymouth Satellite Custom (sw)' 'Ford Pinto (sw)' 'Dodge Colt (sw)'\n",
      " 'Buick Century 350' 'AMC Matador' 'Chevrolet Malibu' 'Ford Gran Torino'\n",
      " 'Dodge Coronet Custom' 'Mercury Marquis Brougham'\n",
      " 'Chevrolet Caprice Classic' 'Ford LTD' 'Plymouth Fury Gran Sedan'\n",
      " 'Chrysler New Yorker Brougham' 'Buick Electra 225 Custom'\n",
      " 'AMC Ambassador Brougham' 'Plymouth Valiant' 'Chevrolet Nova Custom'\n",
      " 'AMC Hornet' 'Ford Maverick' 'Plymouth Duster' 'Chevrolet Impala'\n",
      " 'Ford Country' 'Plymouth Custom Suburb' 'Oldsmobile Vista Cruiser'\n",
      " 'AMC Gremlin' 'Chevrolet Vega' 'Ford Pinto' 'Mercury Capri v6'\n",
      " 'Chevrolet Monte Carlo S' 'Pontiac Grand Prix' 'Dodge Dart Custom'\n",
      " 'Oldsmobile Omega' 'Plymouth Duster' 'Ford Maverick' 'AMC Hornet'\n",
      " 'Chevrolet Nova' 'Ford Pinto' 'Chevrolet Vega'\n",
      " 'Chevrolet Chevelle Malibu Classic' 'AMC Matador'\n",
      " 'Plymouth Satellite Sebring' 'Ford Gran Torino'\n",
      " 'Buick Century Luxus (sw)' 'Dodge Coronet Custom (sw)'\n",
      " 'Ford Gran Torino (sw)' 'AMC Matador (sw)' 'Dodge Colt'\n",
      " 'Plymouth Valiant Custom' 'Chevrolet Nova' 'Mercury Monarch'\n",
      " 'Ford Maverick' 'Pontiac Catalina' 'Chevrolet Bel Air'\n",
      " 'Plymouth Grand Fury' 'Ford LTD' 'Buick Century'\n",
      " 'Chevrolete Chevelle Malibu' 'AMC Matador' 'Plymouth Fury'\n",
      " 'Buick Skyhawk' 'Chevrolet Monza 2+2' 'Ford Mustang II' 'Ford Pinto'\n",
      " 'AMC Gremlin' 'Pontiac Astro' 'Ford Pinto' 'AMC Pacer' 'Capri ii'\n",
      " 'Dodge Colt' 'Chevrolet Chevelle Malibu Classic' 'Dodge Coronet Brougham'\n",
      " 'AMC Matador' 'Ford Gran Torino' 'Plymouth Valiant' 'Chevrolet Nova'\n",
      " 'Ford Maverick' 'AMC Hornet' 'Chevrolet Chevette' 'Chevrolet Woody'\n",
      " 'Dodge Aspen SE' 'Ford Grenada ghia' 'Pontiac Ventura SJ' 'AMC Pacer d/l'\n",
      " 'Ford Pinto' 'Plymouth Volare Premier v8' 'Cadillac Seville'\n",
      " 'Chevrolet C10' 'Ford F108' 'Dodge D100' 'Buick Opel Isuzu Deluxe'\n",
      " 'Plymouth Arrow GS' 'Chevrolet Caprice Classic'\n",
      " 'Oldsmobile Cutlass Supreme' 'Dodge Monaco Brougham'\n",
      " 'Mercury Cougar Brougham' 'Chevrolet Concours' 'Buick Skylark'\n",
      " 'Plymouth Volare Custom' 'Ford Grenada' 'Pontiac Grand Prix LJ'\n",
      " 'Chevrolet Monte Carlo Landau' 'Chrysler Cordoba' 'Ford Thunderbird'\n",
      " 'Pontiac Sunbird Coupe' 'Ford Mustang II 2+2' 'Chevrolet Chevette'\n",
      " 'Dodge Colt m/m' 'Ford Fiesta' 'Oldsmobile Cutlass Salon Brougham'\n",
      " 'Dodge Diplomat' 'Mercury Monarch ghia' 'Pontiac Phoenix LJ'\n",
      " 'Chevrolet Malibu' 'Ford Fairmont (auto)' 'Ford Fairmont (man)'\n",
      " 'Plymouth Volare' 'AMC Concord' 'Buick Century Special' 'Mercury Zephyr'\n",
      " 'Dodge Aspen' 'AMC Concord d/l' 'Chevrolet Monte Carlo Landau'\n",
      " 'Buick Regal Sport Coupe (turbo)' 'Ford Futura' 'Dodge Magnum XE'\n",
      " 'Chevrolet Chevette' 'Dodge Omni' 'Plymouth Sapporo'\n",
      " 'Oldsmobile Starfire SX' 'Pontiac Lemans V6' 'Mercury Zephyr 6'\n",
      " 'Ford Fairmont 4' 'AMC Concord DL 6' 'Dodge Aspen 6'\n",
      " 'Chevrolet Caprice Classic' 'Ford LTD Landau' 'Mercury Grand Marquis'\n",
      " 'Dodge St. Regis' 'Buick Estate Wagon (sw)' 'Ford Country Squire (sw)'\n",
      " 'Chevrolet Malibu Classic (sw)' 'Chrysler Lebaron Town @ Country (sw)'\n",
      " 'Dodge Colt Hatchback Custom' 'AMC Spirit DL' 'Cadillac Eldorado'\n",
      " 'Oldsmobile Cutlass Salon Brougham' 'Plymouth Horizon'\n",
      " 'Plymouth Horizon TC3' 'Buick Skylark Limited' 'Chevrolet Citation'\n",
      " 'Oldsmobile Omega Brougham' 'Pontiac Phoenix' 'Chevrolet Chevette'\n",
      " 'Chevrolet Citation' 'Ford Fairmont' 'AMC Concord' 'Dodge Aspen'\n",
      " 'Dodge Colt' 'Ford Mustang Cobra' 'Plymouth Reliant' 'Buick Skylark'\n",
      " 'Dodge Aries Wagon (sw)' 'Chevrolet Citation' 'Plymouth Reliant'\n",
      " 'Plymouth Champ' 'Plymouth Horizon 4' 'Ford Escort 4W' 'Ford Escort 2H'\n",
      " 'Buick Century' 'Oldsmobile Cutlass LS' 'Ford Grenada gl'\n",
      " 'Chrysler Lebaron Salon' 'Chevrolet Cavalier' 'Chevrolet Cavalier Wagon'\n",
      " 'Chevrolet Cavalier 2-door' 'Pontiac J2000 SE Hatchback' 'Dodge Aries SE'\n",
      " 'Pontiac Phoenix' 'Ford Fairmont Futura' 'AMC Concord DL'\n",
      " 'Plymouth Horizon Miser' 'Mercury Lynx l' 'Buick Century Limited'\n",
      " 'Oldsmobile Cutlass Ciera (diesel)' 'Chrysler Lebaron Medallion'\n",
      " 'Ford Grenada l' 'Dodge Charger 2.2' 'Chevrolet Camaro' 'Ford Mustang GL'\n",
      " 'Dodge Rampage' 'Ford Ranger' 'Chevy S-10']\n"
     ]
    }
   ],
   "source": [
    "x = origin == 'US'\n",
    "print(x)\n",
    "arr = car[x]\n",
    "print(arr)"
   ]
  },
  {
   "cell_type": "markdown",
   "metadata": {},
   "source": [
    "5. On average are Japanse cars more fuel efficient than US cars? "
   ]
  },
  {
   "cell_type": "code",
   "execution_count": 8,
   "metadata": {},
   "outputs": [
    {
     "name": "stdout",
     "output_type": "stream",
     "text": [
      "                           Car   MPG  Cylinders  Displacement  Horsepower  \\\n",
      "0    Chevrolet Chevelle Malibu  18.0          8         307.0       130.0   \n",
      "1            Buick Skylark 320  15.0          8         350.0       165.0   \n",
      "2           Plymouth Satellite  18.0          8         318.0       150.0   \n",
      "3                AMC Rebel SST  16.0          8         304.0       150.0   \n",
      "4                  Ford Torino  17.0          8         302.0       140.0   \n",
      "..                         ...   ...        ...           ...         ...   \n",
      "401            Ford Mustang GL  27.0          4         140.0        86.0   \n",
      "402          Volkswagen Pickup  44.0          4          97.0        52.0   \n",
      "403              Dodge Rampage  32.0          4         135.0        84.0   \n",
      "404                Ford Ranger  28.0          4         120.0        79.0   \n",
      "405                 Chevy S-10  31.0          4         119.0        82.0   \n",
      "\n",
      "     Weight  Acceleration  Model  Origin  \n",
      "0    3504.0          12.0     70      US  \n",
      "1    3693.0          11.5     70      US  \n",
      "2    3436.0          11.0     70      US  \n",
      "3    3433.0          12.0     70      US  \n",
      "4    3449.0          10.5     70      US  \n",
      "..      ...           ...    ...     ...  \n",
      "401  2790.0          15.6     82      US  \n",
      "402  2130.0          24.6     82  Europe  \n",
      "403  2295.0          11.6     82      US  \n",
      "404  2625.0          18.6     82      US  \n",
      "405  2720.0          19.4     82      US  \n",
      "\n",
      "[406 rows x 9 columns]\n"
     ]
    }
   ],
   "source": [
    "#Starter code. Do NOT modify this cell\n",
    "import pandas as pd\n",
    "import numpy as np\n",
    "\n",
    "# Read in dataset\n",
    "df = pd.read_csv('Documents/Data-Science-Assignments/course_material/week_03/cars.csv',delimiter=';')\n",
    "\n",
    "# Convert each column to an np.array\n",
    "car = df.Car.to_numpy()\n",
    "mpg = df.MPG.to_numpy()\n",
    "cylinders = df.Cylinders.to_numpy()\n",
    "displacement = df.Displacement.to_numpy()\n",
    "horsepower = df.Horsepower.to_numpy()\n",
    "weight = df.Weight.to_numpy()\n",
    "acceleration = df.Acceleration.to_numpy()\n",
    "model = df.Model.to_numpy()\n",
    "origin = df.Origin.to_numpy()\n",
    "\n",
    "# create an array of headers\n",
    "headers = np.array(['Car', 'MPG', 'Cylinders', 'Displacement', 'Horsepower', 'Weight','Acceleration', 'Model', 'Origin'])\n",
    "print(df)"
   ]
  },
  {
   "cell_type": "code",
   "execution_count": 13,
   "metadata": {},
   "outputs": [
    {
     "name": "stdout",
     "output_type": "stream",
     "text": [
      "nan\n"
     ]
    }
   ],
   "source": [
    "japanse_avg = mpg [origin == 'japanse']\n",
    "jap_avg = np.mean(japanse_avg)\n",
    "print(jap_avg)\n"
   ]
  },
  {
   "cell_type": "markdown",
   "metadata": {},
   "source": [
    "6. What is the correlation coefficient of `mpg` and `weight`?"
   ]
  },
  {
   "cell_type": "code",
   "execution_count": 25,
   "metadata": {},
   "outputs": [
    {
     "name": "stdout",
     "output_type": "stream",
     "text": [
      "                           Car   MPG  Cylinders  Displacement  Horsepower  \\\n",
      "0    Chevrolet Chevelle Malibu  18.0          8         307.0       130.0   \n",
      "1            Buick Skylark 320  15.0          8         350.0       165.0   \n",
      "2           Plymouth Satellite  18.0          8         318.0       150.0   \n",
      "3                AMC Rebel SST  16.0          8         304.0       150.0   \n",
      "4                  Ford Torino  17.0          8         302.0       140.0   \n",
      "..                         ...   ...        ...           ...         ...   \n",
      "401            Ford Mustang GL  27.0          4         140.0        86.0   \n",
      "402          Volkswagen Pickup  44.0          4          97.0        52.0   \n",
      "403              Dodge Rampage  32.0          4         135.0        84.0   \n",
      "404                Ford Ranger  28.0          4         120.0        79.0   \n",
      "405                 Chevy S-10  31.0          4         119.0        82.0   \n",
      "\n",
      "     Weight  Acceleration  Model  Origin  \n",
      "0    3504.0          12.0     70      US  \n",
      "1    3693.0          11.5     70      US  \n",
      "2    3436.0          11.0     70      US  \n",
      "3    3433.0          12.0     70      US  \n",
      "4    3449.0          10.5     70      US  \n",
      "..      ...           ...    ...     ...  \n",
      "401  2790.0          15.6     82      US  \n",
      "402  2130.0          24.6     82  Europe  \n",
      "403  2295.0          11.6     82      US  \n",
      "404  2625.0          18.6     82      US  \n",
      "405  2720.0          19.4     82      US  \n",
      "\n",
      "[406 rows x 9 columns]\n"
     ]
    }
   ],
   "source": [
    "#Starter code. Do NOT modify this cell\n",
    "import pandas as pd\n",
    "import numpy as np\n",
    "\n",
    "# Read in dataset\n",
    "df = pd.read_csv('Documents/Data-Science-Assignments/course_material/week_03/cars.csv',delimiter=';')\n",
    "\n",
    "# Convert each column to an np.array\n",
    "car = df.Car.to_numpy()\n",
    "mpg = df.MPG.to_numpy()\n",
    "cylinders = df.Cylinders.to_numpy()\n",
    "displacement = df.Displacement.to_numpy()\n",
    "horsepower = df.Horsepower.to_numpy()\n",
    "weight = df.Weight.to_numpy()\n",
    "acceleration = df.Acceleration.to_numpy()\n",
    "model = df.Model.to_numpy()\n",
    "origin = df.Origin.to_numpy()\n",
    "\n",
    "# create an array of headers\n",
    "headers = np.array(['Car', 'MPG', 'Cylinders', 'Displacement', 'Horsepower', 'Weight','Acceleration', 'Model', 'Origin'])\n",
    "print(df)"
   ]
  },
  {
   "cell_type": "code",
   "execution_count": 33,
   "metadata": {},
   "outputs": [
    {
     "name": "stdout",
     "output_type": "stream",
     "text": [
      "[[ 1.         -0.78750994]\n",
      " [-0.78750994  1.        ]]\n"
     ]
    }
   ],
   "source": [
    "#scipy import stats\n",
    "x = np.corrcoef(mpg,weight)\n",
    "print(x)"
   ]
  },
  {
   "cell_type": "code",
   "execution_count": null,
   "metadata": {},
   "outputs": [],
   "source": []
  },
  {
   "cell_type": "markdown",
   "metadata": {},
   "source": [
    "7. Why might you prefer an `np.array()` over a Python `list`? And when is a Python `list` preferred? "
   ]
  },
  {
   "cell_type": "code",
   "execution_count": null,
   "metadata": {},
   "outputs": [],
   "source": [
    "# Numpy arrays consumes less memory.\n",
    "Numpy arrays are fast comparitively python list and it is more conveniant to use when we want to do mathematical operations.\n",
    "# python list preferred \n",
    "python list having different datatypes. we can store different datatypes in list like int, float, string in a list.\n",
    "in Numpy array we can store a same datatype.u cant have different datatypes in a singal array."
   ]
  }
 ],
 "metadata": {
  "kernelspec": {
   "display_name": "Python 3",
   "language": "python",
   "name": "python3"
  },
  "language_info": {
   "codemirror_mode": {
    "name": "ipython",
    "version": 3
   },
   "file_extension": ".py",
   "mimetype": "text/x-python",
   "name": "python",
   "nbconvert_exporter": "python",
   "pygments_lexer": "ipython3",
   "version": "3.8.5"
  }
 },
 "nbformat": 4,
 "nbformat_minor": 4
}
